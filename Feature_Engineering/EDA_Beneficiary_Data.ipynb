{
 "cells": [
  {
   "cell_type": "code",
   "execution_count": 1,
   "id": "39d7867c",
   "metadata": {},
   "outputs": [],
   "source": [
    "import sys\n",
    "# sys.path.append('/Users/bernardoloureiro/template-lib')\n",
    "\n",
    "from utils.notebookhelpers.helpers import Helpers\n",
    "from utils.dtos.templateOutputCollection import TemplateOutputCollection\n",
    "from utils.dtos.variable import Metadata\n",
    "from utils.dtos.templateOutput import TemplateOutput\n",
    "from utils.dtos.templateOutput import OutputType\n",
    "from utils.dtos.templateOutput import ChartType\n",
    "import datetime\n",
    "import logging\n",
    "import pandas as pd\n",
    "import numpy as np\n",
    "import os\n",
    "from dateutil import parser\n",
    "logging.basicConfig(format='%(levelname)s:%(message)s', level=logging.INFO)\n",
    "import math\n",
    "import scipy as scipy\n",
    "import matplotlib.pyplot as plt\n",
    "import seaborn as sns\n",
    "import copy\n",
    "%matplotlib inline\n",
    "from sklearn.model_selection import train_test_split as tts\n",
    "from sklearn.preprocessing import RobustScaler\n",
    "from imblearn.over_sampling import ADASYN\n",
    "from sklearn.ensemble import RandomForestClassifier\n",
    "\n",
    "from collections import Counter\n",
    "from sklearn.linear_model import LogisticRegressionCV\n",
    "from sklearn import metrics\n",
    "from sklearn.metrics import accuracy_score, precision_score, recall_score, f1_score, roc_auc_score, confusion_matrix, roc_curve, auc\n",
    "# from sklearn.linear_model import LogisticRegression\n",
    "from sklearn.model_selection import GridSearchCV\n",
    "from sklearn.model_selection import RandomizedSearchCV\n",
    "from sklearn.calibration import CalibratedClassifierCV"
   ]
  },
  {
   "cell_type": "code",
   "execution_count": 2,
   "id": "28efa2a0",
   "metadata": {},
   "outputs": [
    {
     "name": "stderr",
     "output_type": "stream",
     "text": [
      "WARNING:Context is not present for given context_id: None. Make sure you declare context_id at the top of the cell and run prepareForLocal in your flow file before testing transform file.\n",
      "WARNING:Context is not present for given context_id: None. Make sure you declare context_id at the top of the cell and run prepareForLocal in your flow file before testing transform file.\n"
     ]
    }
   ],
   "source": [
    "inputDatasetParameter=Helpers.get_or_create_input_dataset(\n",
    "    name=\"inputBeneDataset2\",\n",
    "    metadata=Metadata(input_name='Bene_df', is_required=True, tooltip='Benefeciary Dataset for EDA'),\n",
    "    local_context=locals()\n",
    ")\n",
    "\n",
    "# Gender = Helpers.get_or_create_input_var(\n",
    "#     name=\"Gender\",\n",
    "#     metadata=Metadata(input_name=\"Longitude\", is_required=True, tooltip=\"Longitude\", multiple=False, datatypes=[\"DOUBLE\", \"LONG\"], options=['FIELDS', 'CONSTANT'], datasets=['GeoDataset']),\n",
    "#     local_context=locals()\n",
    "# )\n",
    "\n",
    "EDA_Beneficiary=Helpers.get_or_create_output_chart(\n",
    " name=\"EDA_Beneficiary_Data\",\n",
    "    metadata=Metadata(input_name='Gender_chart Chart Name', is_required=True, tooltip='Name of the chart to be created'),\n",
    "    local_context=locals()\n",
    ")"
   ]
  },
  {
   "cell_type": "code",
   "execution_count": 6,
   "id": "430af644",
   "metadata": {},
   "outputs": [],
   "source": [
    "contextId = \"EDA_Beneficiary_Data\"\n",
    "context = Helpers.getOrCreateContext(contextId = contextId, localVars=locals())"
   ]
  },
  {
   "cell_type": "code",
   "execution_count": 7,
   "id": "0e725fb9",
   "metadata": {
    "collapsed": true
   },
   "outputs": [
    {
     "ename": "KeyError",
     "evalue": "'entityPaths'",
     "output_type": "error",
     "traceback": [
      "\u001b[1;31m---------------------------------------------------------------------------\u001b[0m",
      "\u001b[1;31mKeyError\u001b[0m                                  Traceback (most recent call last)",
      "Input \u001b[1;32mIn [7]\u001b[0m, in \u001b[0;36m<cell line: 1>\u001b[1;34m()\u001b[0m\n\u001b[1;32m----> 1\u001b[0m entities\u001b[38;5;241m=\u001b[39m\u001b[43mHelpers\u001b[49m\u001b[38;5;241;43m.\u001b[39;49m\u001b[43mgetAllEntities\u001b[49m\u001b[43m(\u001b[49m\u001b[43mcontext\u001b[49m\u001b[43m)\u001b[49m\n\u001b[0;32m      2\u001b[0m BeneDataset \u001b[38;5;241m=\u001b[39m GeoDatasetParameter\u001b[38;5;241m.\u001b[39mvalue\n\u001b[0;32m      4\u001b[0m Gender_chart\u001b[38;5;241m=\u001b[39mGeoChartName\u001b[38;5;241m.\u001b[39mvalue\n",
      "File \u001b[1;32m~\\AppData\\Roaming\\Python\\Python38\\site-packages\\utils\\notebookhelpers\\helpers.py:213\u001b[0m, in \u001b[0;36mHelpers.getAllEntities\u001b[1;34m(context)\u001b[0m\n\u001b[0;32m    207\u001b[0m \u001b[38;5;124;03m\"\"\"\u001b[39;00m\n\u001b[0;32m    208\u001b[0m \u001b[38;5;124;03mReturns all the entity names in the context\u001b[39;00m\n\u001b[0;32m    209\u001b[0m \u001b[38;5;124;03m:param context:\u001b[39;00m\n\u001b[0;32m    210\u001b[0m \u001b[38;5;124;03m:return: list of all entity names\u001b[39;00m\n\u001b[0;32m    211\u001b[0m \u001b[38;5;124;03m\"\"\"\u001b[39;00m\n\u001b[0;32m    212\u001b[0m entities \u001b[38;5;241m=\u001b[39m []\n\u001b[1;32m--> 213\u001b[0m entityPaths \u001b[38;5;241m=\u001b[39m \u001b[43mcontext\u001b[49m\u001b[43m[\u001b[49m\u001b[38;5;124;43m'\u001b[39;49m\u001b[38;5;124;43mentityPaths\u001b[39;49m\u001b[38;5;124;43m'\u001b[39;49m\u001b[43m]\u001b[49m\n\u001b[0;32m    214\u001b[0m \u001b[38;5;28;01mfor\u001b[39;00m entityPath \u001b[38;5;129;01min\u001b[39;00m entityPaths:\n\u001b[0;32m    215\u001b[0m     entities\u001b[38;5;241m.\u001b[39mappend(entityPath[\u001b[38;5;124m'\u001b[39m\u001b[38;5;124mentity_name\u001b[39m\u001b[38;5;124m'\u001b[39m])\n",
      "\u001b[1;31mKeyError\u001b[0m: 'entityPaths'"
     ]
    }
   ],
   "source": [
    "entities=Helpers.getAllEntities(context)\n",
    "BeneDataset = inputDatasetParameter.value\n",
    "\n",
    "EDA_Beneficiary_name=EDA_Beneficiary.value"
   ]
  },
  {
   "cell_type": "code",
   "execution_count": null,
   "id": "5d1768ac",
   "metadata": {},
   "outputs": [],
   "source": [
    "df = Helpers.getEntityData(context,BeneDataset)"
   ]
  },
  {
   "cell_type": "code",
   "execution_count": null,
   "id": "e5c52417",
   "metadata": {},
   "outputs": [],
   "source": [
    "train_bene_df = df.copy()"
   ]
  },
  {
   "cell_type": "code",
   "execution_count": 2,
   "id": "50f6eddb",
   "metadata": {},
   "outputs": [],
   "source": [
    "pd.set_option('display.max_columns',30)\n",
    "label_font_dict = {'family':'sans-serif','size':13.5,'color':'brown','style':'italic'}\n",
    "title_font_dict = {'family':'sans-serif','size':16.5,'color':'Blue','style':'italic'}"
   ]
  },
  {
   "cell_type": "code",
   "execution_count": null,
   "id": "50ad6e89",
   "metadata": {},
   "outputs": [],
   "source": [
    "train_bene_df['Gender'] = train_bene_df['Gender'].apply(lambda val: 0 if val == 2 else 1)"
   ]
  },
  {
   "cell_type": "code",
   "execution_count": null,
   "id": "150b504c",
   "metadata": {},
   "outputs": [],
   "source": [
    "# Here, I'm displaying the distribution of BENEFICIARIES on the basis of GENDER \n",
    "with plt.style.context('seaborn'):\n",
    "    plt.figure(figsize=(10,8))\n",
    "    fig = train_bene_df['Gender'].value_counts().plot(kind='bar', color=['yellow','purple'])\n",
    "    # Using the \"patches\" function we will get the location of the rectangle bars from the graph.\n",
    "    ## Then by using those location(width & height) values we will add the annotations\n",
    "    for p in fig.patches:\n",
    "        width = p.get_width()\n",
    "        height = p.get_height()\n",
    "        x, y = p.get_xy()\n",
    "        fig.annotate(f'{str(round((height*100)/train_bene_df.shape[0],2))+\"%\"}', (x + width/2, y + height*1.015), ha='center', fontsize=13.5)\n",
    "    # Providing the labels and title to the graph\n",
    "    plt.xlabel(\"Gender Code\", fontdict=label_font_dict)\n",
    "    plt.ylabel(\"Number or % share of patients\\n\", fontdict=label_font_dict)\n",
    "    plt.grid(which='major', linestyle=\"--\", color='lightgrey')\n",
    "    plt.minorticks_on()\n",
    "    plt.title(\"Distribution of BENEFICIARIES based on GENDER\\n\", fontdict=title_font_dict)"
   ]
  },
  {
   "cell_type": "code",
   "execution_count": null,
   "id": "ad5dd4df",
   "metadata": {},
   "outputs": [],
   "source": [
    "imgChart = Helpers.createTemplateOutputPlotlibChart(context, chartTitle='Distribution of BENEFICIARIES based on GENDER',\n",
    "                                                    plt=plt)"
   ]
  },
  {
   "cell_type": "markdown",
   "id": "21559e86",
   "metadata": {},
   "source": [
    "### **Q3. Lets calculate the AGE of every BENEFICIARY?**"
   ]
  },
  {
   "cell_type": "code",
   "execution_count": 4,
   "id": "8d3dec49",
   "metadata": {
    "collapsed": true
   },
   "outputs": [
    {
     "ename": "NameError",
     "evalue": "name 'train_bene_df' is not defined",
     "output_type": "error",
     "traceback": [
      "\u001b[1;31m---------------------------------------------------------------------------\u001b[0m",
      "\u001b[1;31mNameError\u001b[0m                                 Traceback (most recent call last)",
      "Input \u001b[1;32mIn [4]\u001b[0m, in \u001b[0;36m<cell line: 1>\u001b[1;34m()\u001b[0m\n\u001b[1;32m----> 1\u001b[0m train_bene_df[\u001b[38;5;124m'\u001b[39m\u001b[38;5;124mDOB\u001b[39m\u001b[38;5;124m'\u001b[39m] \u001b[38;5;241m=\u001b[39m pd\u001b[38;5;241m.\u001b[39mto_datetime(\u001b[43mtrain_bene_df\u001b[49m[\u001b[38;5;124m'\u001b[39m\u001b[38;5;124mDOB\u001b[39m\u001b[38;5;124m'\u001b[39m], \u001b[38;5;28mformat\u001b[39m\u001b[38;5;241m=\u001b[39m\u001b[38;5;124m\"\u001b[39m\u001b[38;5;124m%\u001b[39m\u001b[38;5;124mY-\u001b[39m\u001b[38;5;124m%\u001b[39m\u001b[38;5;124mm-\u001b[39m\u001b[38;5;132;01m%d\u001b[39;00m\u001b[38;5;124m\"\u001b[39m)\n",
      "\u001b[1;31mNameError\u001b[0m: name 'train_bene_df' is not defined"
     ]
    }
   ],
   "source": [
    "train_bene_df['DOB'] = pd.to_datetime(train_bene_df['DOB'], format=\"%Y-%m-%d\")"
   ]
  },
  {
   "cell_type": "code",
   "execution_count": null,
   "id": "f330ee8d",
   "metadata": {},
   "outputs": [],
   "source": [
    "train_bene_df['Patient_Age_Year'] = train_bene_df['DOB'].dt.year\n",
    "train_bene_df['Patient_Age_Month'] = train_bene_df['DOB'].dt.month"
   ]
  },
  {
   "cell_type": "code",
   "execution_count": null,
   "id": "fb6729c1",
   "metadata": {},
   "outputs": [],
   "source": [
    "bene_age_year_df = pd.DataFrame(train_bene_df['Patient_Age_Year'].value_counts()).reset_index(drop=False)\n",
    "bene_age_year_df.columns= ['year','num_of_beneficiaries']\n",
    "bene_age_year_df = bene_age_year_df.sort_values(by='year')"
   ]
  },
  {
   "cell_type": "code",
   "execution_count": null,
   "id": "4ced0559",
   "metadata": {},
   "outputs": [],
   "source": [
    "# Here, I'm displaying the distribution of BENEFICIARIES on the basis of their YEAR of Birth \n",
    "with plt.style.context('seaborn'):\n",
    "  plt.figure(figsize=(21,9))\n",
    "  fig = sns.barplot(data=bene_age_year_df, x='year', y='num_of_beneficiaries', palette='inferno')\n",
    "  # Using the \"patches\" function we will get the location of the rectangle bars from the graph.\n",
    "  ## Then by using those location(width & height) values we will add the annotations\n",
    "  for p in fig.patches:\n",
    "    width = p.get_width()\n",
    "    height = p.get_height()\n",
    "    x, y = p.get_xy()\n",
    "    fig.annotate(f'{str(round((height*100)/train_bene_df.shape[0],1))+\"%\"}', (x + width/2, y + height*1.025), ha='center', fontsize=13.5, rotation=90)\n",
    "  # Providing the labels and title to the graph\n",
    "  plt.xlabel(\"\\nBeneficary YEAR of Birth\", fontdict=label_font_dict)\n",
    "  plt.xticks(rotation=90)\n",
    "  plt.ylabel(\"Number or % share of patients\\n\", fontdict=label_font_dict)\n",
    "  plt.minorticks_on()\n",
    "  plt.grid(which='major', linestyle=\"--\", color='lightgrey')\n",
    "  plt.title(\"Distribution of BENEFICIARIES based on their YEAR of birth\\n\", fontdict=title_font_dict)"
   ]
  },
  {
   "cell_type": "code",
   "execution_count": null,
   "id": "4016629b",
   "metadata": {},
   "outputs": [],
   "source": [
    "imgChart2 = Helpers.createTemplateOutputPlotlibChart(context, \n",
    "                                                    chartTitle='Distribution of BENEFICIARIES based on their YEAR of birth',\n",
    "                                                    plt=plt)"
   ]
  },
  {
   "cell_type": "code",
   "execution_count": null,
   "id": "3a686952",
   "metadata": {},
   "outputs": [],
   "source": [
    "bene_age_month_df = pd.DataFrame(train_bene_df['Patient_Age_Month'].value_counts()).reset_index(drop=False)\n",
    "bene_age_month_df.columns= ['month','num_of_beneficiaries']\n",
    "bene_age_month_df = bene_age_month_df.sort_values(by='month')"
   ]
  },
  {
   "cell_type": "code",
   "execution_count": null,
   "id": "a1bd2703",
   "metadata": {},
   "outputs": [],
   "source": [
    "# Here, I'm displaying the distribution of BENEFICIARIES on the basis of their MONTH of Birth \n",
    "with plt.style.context('seaborn'):\n",
    "  plt.figure(figsize=(12,8))\n",
    "  fig = sns.barplot(data=bene_age_month_df, x='month', y='num_of_beneficiaries', palette='summer')\n",
    "  # Using the \"patches\" function we will get the location of the rectangle bars from the graph.\n",
    "  ## Then by using those location(width & height) values we will add the annotations\n",
    "  for p in fig.patches:\n",
    "    width = p.get_width()\n",
    "    height = p.get_height()\n",
    "    x, y = p.get_xy()\n",
    "    fig.annotate(f'{str(round((height*100)/train_bene_df.shape[0],1))+\"%\"}', (x + width/2, y + height*1.025), ha='center', fontsize=13.5, rotation=90)\n",
    "  # Providing the labels and title to the graph\n",
    "  plt.xlabel(\"\\nBeneficary MONTH of Birth\\n\", fontdict=label_font_dict)\n",
    "  plt.xticks(rotation=90)\n",
    "  plt.ylabel(\"Number or % share of patients\", fontdict=label_font_dict)\n",
    "  plt.minorticks_on()\n",
    "  plt.grid(which='major', linestyle=\"--\", color='lightgrey')\n",
    "  plt.title(\"Distribution of BENEFICIARIES based on their MONTH of birth\\n\", fontdict=title_font_dict)"
   ]
  },
  {
   "cell_type": "code",
   "execution_count": null,
   "id": "e65d1ec5",
   "metadata": {},
   "outputs": [],
   "source": [
    "imgChart3 = Helpers.createTemplateOutputPlotlibChart(context, \n",
    "                                                    chartTitle='Distribution of BENEFICIARIES based on their MONTH of birth',\n",
    "                                                    plt=plt)"
   ]
  },
  {
   "cell_type": "code",
   "execution_count": null,
   "id": "07c34aa7",
   "metadata": {},
   "outputs": [],
   "source": [
    "# 0 means ALIVE and 1 means DEAD\n",
    "train_bene_df['Dead_or_Alive'] = train_bene_df['DOD'].apply(lambda val: 0 if val != val else 1)"
   ]
  },
  {
   "cell_type": "code",
   "execution_count": null,
   "id": "2e1d63d1",
   "metadata": {},
   "outputs": [],
   "source": [
    "# Here, I'm displaying the distribution of whether BENEFICIARY is ALIVE or NOT?\n",
    "with plt.style.context('seaborn'):\n",
    "  plt.figure(figsize=(10,8))\n",
    "  fig = train_bene_df['Dead_or_Alive'].value_counts().plot(kind='bar', color=['lightgreen','coral'])\n",
    "  # Using the \"patches\" function we will get the location of the rectangle bars from the graph.\n",
    "  ## Then by using those location(width & height) values we will add the annotations\n",
    "  for p in fig.patches:\n",
    "    width = p.get_width()\n",
    "    height = p.get_height()\n",
    "    x, y = p.get_xy()\n",
    "    fig.annotate(f'{str(round((height*100)/train_bene_df.shape[0],2))+\"%\"}', (x + width/2, y + height*1.015), ha='center', fontsize=13.5)\n",
    "  # Providing the labels and title to the graph\n",
    "  plt.xlabel(\"Alive or Dead Status?\", fontdict=label_font_dict)\n",
    "  plt.xticks(labels=[\"ALIVE\",\"DEAD\"], ticks=[0,1], rotation=20)\n",
    "  plt.ylabel(\"Number or % share of patients\\n\", fontdict=label_font_dict)\n",
    "  plt.grid(which='major', linestyle=\"--\", color='lightgrey')\n",
    "  plt.minorticks_on()\n",
    "  plt.title(\"Distribution of BENEFICIARIES based on Alive or Dead Status\\n\", fontdict=title_font_dict)"
   ]
  },
  {
   "cell_type": "code",
   "execution_count": null,
   "id": "2b003751",
   "metadata": {},
   "outputs": [],
   "source": [
    "imgChart4 = Helpers.createTemplateOutputPlotlibChart(context, \n",
    "                                                    chartTitle='Distribution of BENEFICIARIES based on Alive or Dead Status',\n",
    "                                                    plt=plt)"
   ]
  },
  {
   "cell_type": "code",
   "execution_count": null,
   "id": "9353c608",
   "metadata": {},
   "outputs": [],
   "source": [
    "train_bene_df['DOD'] = pd.to_datetime(train_bene_df['DOD'])"
   ]
  },
  {
   "cell_type": "code",
   "execution_count": null,
   "id": "4ba3a766",
   "metadata": {},
   "outputs": [],
   "source": [
    "# Greatest Date of Death in the TRAIN set for beneficiaries\n",
    "max_bene_DOD = max(train_bene_df['DOD'].unique()[1:])\n",
    "# For all NAN DODs filling the greatest Date of Death\n",
    "train_bene_df['DOD'].fillna(value=max_bene_DOD, inplace=True)\n",
    "train_bene_df['AGE'] = np.round(((train_bene_df['DOD'] - train_bene_df['DOB']).dt.days)/365.0,1)\n",
    "train_bene_df.drop(labels=['DOD'],axis=1,inplace=True)"
   ]
  },
  {
   "cell_type": "code",
   "execution_count": null,
   "id": "d848eba2",
   "metadata": {},
   "outputs": [],
   "source": [
    "# Here, I'm displaying the distribution of AGE of Beneficiaries?\n",
    "with plt.style.context('seaborn'):\n",
    "  plt.figure(figsize=(10,8))\n",
    "  train_bene_df['AGE'].plot(kind='hist', color='purple')\n",
    "  # Providing the labels and title to the graph\n",
    "  plt.xlabel(\"\\nBeneficiaries Age in years\", fontdict=label_font_dict)\n",
    "  plt.ylabel(\"Frequency of patients\\n\", fontdict=label_font_dict)\n",
    "  plt.grid(which='major', linestyle=\"--\", color='lightgrey')\n",
    "  plt.minorticks_on()\n",
    "  plt.title(\"Distribution of BENEFICIARIES AGE\", fontdict=title_font_dict)\n",
    "  plt.legend();"
   ]
  },
  {
   "cell_type": "code",
   "execution_count": null,
   "id": "83bf923f",
   "metadata": {},
   "outputs": [],
   "source": [
    "imgChart5 = Helpers.createTemplateOutputPlotlibChart(context, \n",
    "                                                    chartTitle='Distribution of BENEFICIARIES AGE',\n",
    "                                                    plt=plt)"
   ]
  },
  {
   "cell_type": "code",
   "execution_count": null,
   "id": "41d02f79",
   "metadata": {},
   "outputs": [],
   "source": [
    "def bene_age_brackets(val):\n",
    "  if val >=1 and val <=40:\n",
    "    return 'Young'\n",
    "  elif val > 40 and val <=60:\n",
    "    return 'Mid'\n",
    "  elif val > 60 and val <= 80:\n",
    "    return 'Old'\n",
    "  else:\n",
    "    return 'Very Old'"
   ]
  },
  {
   "cell_type": "code",
   "execution_count": null,
   "id": "ad5e3a3c",
   "metadata": {},
   "outputs": [],
   "source": [
    "train_bene_df['AGE_groups'] = train_bene_df['AGE'].apply(lambda age: bene_age_brackets(age))"
   ]
  },
  {
   "cell_type": "code",
   "execution_count": null,
   "id": "5e249b67",
   "metadata": {},
   "outputs": [],
   "source": [
    "age_grps = list(train_bene_df['AGE_groups'].unique())\n",
    "for grp in age_grps:\n",
    "  # Here, I'm displaying the distribution of AGE GROUPS of Beneficiaries?\n",
    "  with plt.style.context('seaborn'):\n",
    "    plt.figure(figsize=(8,6))\n",
    "    train_bene_df[train_bene_df['AGE_groups'] == grp]['AGE'].plot(kind='hist', color='grey')\n",
    "    # Providing the labels and title to the graph\n",
    "    plt.xlabel(\"\\nBeneficiaries Age in years\", fontdict=label_font_dict)\n",
    "    plt.ylabel(\"Frequency of patients\\n\", fontdict=label_font_dict)\n",
    "    plt.grid(which='major', linestyle=\"--\", color='lightgrey')\n",
    "    plt.minorticks_on()\n",
    "    plt.title(\"Distribution of BENEFICIARIES Age group -- {}\".format(str(grp).upper()), fontdict=title_font_dict)\n",
    "    plt.legend();"
   ]
  },
  {
   "cell_type": "code",
   "execution_count": null,
   "id": "8dd3fffb",
   "metadata": {},
   "outputs": [],
   "source": [
    "\n",
    "imgChart6 = Helpers.createTemplateOutputPlotlibChart(context, \n",
    "                                                    chartTitle='Distribution of BENEFICIARIES Age group',\n",
    "                                                    plt=plt)"
   ]
  },
  {
   "cell_type": "code",
   "execution_count": null,
   "id": "1855345f",
   "metadata": {},
   "outputs": [],
   "source": [
    "# Here, I'm displaying the distribution of BENEFICIARIES on the basis of Human RACE\n",
    "with plt.style.context('seaborn'):\n",
    "  plt.figure(figsize=(10,8))\n",
    "  fig = train_bene_df['Race'].value_counts().plot(kind='bar', color=['lightgreen','coral','purple','red'])\n",
    "  # Using the \"patches\" function we will get the location of the rectangle bars from the graph.\n",
    "  ## Then by using those location(width & height) values we will add the annotations\n",
    "  for p in fig.patches:\n",
    "    width = p.get_width()\n",
    "    height = p.get_height()\n",
    "    x, y = p.get_xy()\n",
    "    fig.annotate(f'{str(round((height*100)/train_bene_df.shape[0],2))+\"%\"}', (x + width/2, y + height*1.02), ha='center', fontsize=13.5)\n",
    "  # Providing the labels and title to the graph\n",
    "  plt.xlabel(\"Human RACE\", fontdict=label_font_dict)\n",
    "  plt.xticks(labels=[\"Race_1\",\"Race_2\",\"Race_3\",\"Race_5\"], ticks=[0,1,2,3], rotation=10)\n",
    "  plt.ylabel(\"Number or % share of patients\\n\", fontdict=label_font_dict)\n",
    "  plt.grid(which='major', linestyle=\"--\", color='lightgrey')\n",
    "  plt.minorticks_on()\n",
    "  plt.title(\"Distribution of BENEFICIARIES on the basis of Human RACE\\n\", fontdict=title_font_dict)"
   ]
  },
  {
   "cell_type": "code",
   "execution_count": null,
   "id": "823f0b25",
   "metadata": {},
   "outputs": [],
   "source": [
    "imgChart7 = Helpers.createTemplateOutputPlotlibChart(context, \n",
    "                                                    chartTitle='Distribution of BENEFICIARIES on the basis of Human RACE',\n",
    "                                                    plt=plt)"
   ]
  },
  {
   "cell_type": "code",
   "execution_count": null,
   "id": "5d4b521b",
   "metadata": {},
   "outputs": [],
   "source": [
    "# Lets validate whether we have imbalance of males and females across the human races\n",
    "with plt.style.context('seaborn'):\n",
    "  plt.figure(figsize=(12,8))\n",
    "  fig = train_bene_df.groupby(['Gender','Race'])['AGE'].count().plot(kind='bar', color=['lightgreen','coral','purple','red','lightgreen','coral','purple','red'])\n",
    "  # Using the \"patches\" function we will get the location of the rectangle bars from the graph.\n",
    "  ## Then by using those location(width & height) values we will add the annotations\n",
    "  for p in fig.patches:\n",
    "    width = p.get_width()\n",
    "    height = p.get_height()\n",
    "    x, y = p.get_xy()\n",
    "    fig.annotate(f'{str(round((height*100)/train_bene_df.shape[0],2))+\"%\"}', (x + width/2, y + height*1.02), ha='center', fontsize=13.5)\n",
    "  # Providing the labels and title to the graph\n",
    "  plt.xlabel(\"Gender & Human RACE\", fontdict=label_font_dict)\n",
    "  plt.xticks(labels=[(\"Gender_0\",\"Race_1\"), (\"Gender_0\",\"Race_2\"), (\"Gender_0\",\"Race_3\"), (\"Gender_0\",\"Race_5\"),(\"Gender_1\",\"Race_1\"), (\"Gender_1\",\"Race_2\"), (\"Gender_1\",\"Race_3\"), (\"Gender_1\",\"Race_5\")],\n",
    "             ticks=[0,1,2,3,4,5,6,7], rotation=80)\n",
    "  plt.ylabel(\"Number or % share of patients\\n\", fontdict=label_font_dict)\n",
    "  plt.grid(which='major', linestyle=\"--\", color='lightgrey')\n",
    "  plt.minorticks_on()\n",
    "  plt.title(\"Imbalance of males and females across the human races?\\n\", fontdict=title_font_dict)"
   ]
  },
  {
   "cell_type": "code",
   "execution_count": null,
   "id": "4798a546",
   "metadata": {},
   "outputs": [],
   "source": [
    "imgChart8 = Helpers.createTemplateOutputPlotlibChart(context, \n",
    "                                                    chartTitle='Imbalance of males and females across the human races',\n",
    "                                                    plt=plt)"
   ]
  },
  {
   "cell_type": "code",
   "execution_count": null,
   "id": "6fd5c6c6",
   "metadata": {},
   "outputs": [],
   "source": [
    "# Here, I'm displaying the distribution of BENEFICIARIES on the basis of \"ChronicCond_KidneyDisease\"\n",
    "with plt.style.context('seaborn'):\n",
    "  plt.figure(figsize=(10,8))\n",
    "  fig = train_bene_df['ChronicCond_KidneyDisease'].value_counts().plot(kind='bar', color=['green','orange'])\n",
    "  # Using the \"patches\" function we will get the location of the rectangle bars from the graph.\n",
    "  ## Then by using those location(width & height) values we will add the annotations\n",
    "  for p in fig.patches:\n",
    "    width = p.get_width()\n",
    "    height = p.get_height()\n",
    "    x, y = p.get_xy()\n",
    "    fig.annotate(f'{str(round((height*100)/train_bene_df.shape[0],2))+\"%\"}', (x + width/2, y + height*1.02), ha='center', fontsize=13.5, rotation=0)\n",
    "  # Providing the labels and title to the graph\n",
    "  plt.xlabel(\"\\n Chronic Kidney Disease present or not?\", fontdict=label_font_dict)\n",
    "  plt.xticks(labels=[\"NO\",\"YES\"], ticks=[0,1], rotation=10, size=12)\n",
    "  plt.ylabel(\"Number or % share of patients\\n\", fontdict=label_font_dict)\n",
    "  plt.grid(which='major', linestyle=\"--\", color='lightgrey')\n",
    "  plt.minorticks_on()\n",
    "  plt.title(\"Distribution of BENEFICIARIES on the basis of 'ChronicCond_KidneyDisease'\\n\", fontdict=title_font_dict)\n",
    "\n",
    "# I believe 2 means NO and 1 means YES\n",
    "print(pd.DataFrame(train_bene_df['ChronicCond_KidneyDisease'].value_counts()),'\\n')"
   ]
  },
  {
   "cell_type": "code",
   "execution_count": null,
   "id": "e5ecd8c1",
   "metadata": {},
   "outputs": [],
   "source": [
    "imgChart9 = Helpers.createTemplateOutputPlotlibChart(context, \n",
    "                                                    chartTitle='Distribution of BENEFICIARIES on the basis of ChronicCond_KidneyDisease',\n",
    "                                                    plt=plt)"
   ]
  },
  {
   "cell_type": "code",
   "execution_count": null,
   "id": "48ed6690",
   "metadata": {},
   "outputs": [],
   "source": [
    "# Lets validate whether we have beneficiaries with both RKD & CKD?\n",
    "with plt.style.context('seaborn'):\n",
    "  plt.figure(figsize=(12,8))\n",
    "  fig = train_bene_df.groupby(['RenalDiseaseIndicator','ChronicCond_KidneyDisease'])['Gender'].count().plot(kind='bar', color=['orange','green','purple','red'])\n",
    "  # Using the \"patches\" function we will get the location of the rectangle bars from the graph.\n",
    "  ## Then by using those location(width & height) values we will add the annotations\n",
    "  for p in fig.patches:\n",
    "    width = p.get_width()\n",
    "    height = p.get_height()\n",
    "    x, y = p.get_xy()\n",
    "    fig.annotate(f'{str(round((height*100)/train_bene_df.shape[0],2))+\"%\"}', (x + width/2, y + height*1.02), ha='center', fontsize=13.5)\n",
    "  \n",
    "  # Added the Description for one of the horizontal bar\n",
    "  fig.annotate('This is interesting!!\\n Beneficiaries with NO Long Term Kidney Malfunction but\\n suffered from Kidney Failure.', \n",
    "               xy=(2.85, 0.85),  xycoords='data', xytext=(1.02, 0.65), textcoords='axes fraction', fontsize=12.5,\n",
    "               arrowprops=dict(facecolor='black', shrink=0.03), horizontalalignment='right', verticalalignment='top')\n",
    "\n",
    "  # Providing the labels and title to the graph\n",
    "  plt.xlabel(\"\\nRKD and CKD both are present?\", fontdict=label_font_dict)\n",
    "  plt.xticks(labels=[(\"RKD_No\",\"CKD_Yes\"), (\"RKD_No\",\"CKD_No\"), (\"RKD_Yes\",\"CKD_Yes\"), (\"RKD_Yes\",\"CKD_No\")], ticks=[0,1,2,3], rotation=0, size=12)\n",
    "  plt.ylabel(\"Number or % share of patients\\n\", fontdict=label_font_dict)\n",
    "  plt.grid(which='major', linestyle=\"--\", color='lightgrey')\n",
    "  plt.minorticks_on()\n",
    "  plt.title(\"Imbalance b/w males and females across the human races?\\n\", fontdict=title_font_dict)\n",
    "\n",
    "# RKD --> Renal Disease Indicator\n",
    "# CKD --> Chronic Condition Kidney Disease\n",
    "print(pd.DataFrame(train_bene_df.groupby(['RenalDiseaseIndicator','ChronicCond_KidneyDisease'])['Gender'].count()),\"\\n\")"
   ]
  },
  {
   "cell_type": "code",
   "execution_count": null,
   "id": "32a9f51d",
   "metadata": {},
   "outputs": [],
   "source": [
    "imgChart10 = Helpers.createTemplateOutputPlotlibChart(context, \n",
    "                                                    chartTitle='Imbalance b/w males and females across the human races?',\n",
    "                                                    plt=plt)"
   ]
  },
  {
   "cell_type": "markdown",
   "id": "f283a173",
   "metadata": {},
   "source": [
    "# Updating charts"
   ]
  },
  {
   "cell_type": "code",
   "execution_count": null,
   "id": "d6157545",
   "metadata": {},
   "outputs": [],
   "source": [
    "# Here, I'm displaying the distribution of BENEFICIARIES on the basis of State\n",
    "with plt.style.context('seaborn'):\n",
    "  plt.figure(figsize=(20,9))\n",
    "  fig = train_bene_df['State'].value_counts().plot(kind='bar')\n",
    "  # Using the \"patches\" function we will get the location of the rectangle bars from the graph.\n",
    "  ## Then by using those location(width & height) values we will add the annotations\n",
    "  for p in fig.patches:\n",
    "    width = p.get_width()\n",
    "    height = p.get_height()\n",
    "    x, y = p.get_xy()\n",
    "    fig.annotate(f'{str(round((height*100)/train_bene_df.shape[0],2))+\"%\"}', (x + width/2, y + height*1.03), ha='center', fontsize=13.5, rotation=90)\n",
    "  # Providing the labels and title to the graph\n",
    "  plt.xlabel(\"\\nState Codes\", fontdict=label_font_dict)\n",
    "  plt.ylabel(\"Number or % share of patients\\n\", fontdict=label_font_dict)\n",
    "  plt.grid(which='major', linestyle=\"--\", color='lightgrey')\n",
    "  plt.minorticks_on()\n",
    "  plt.title(\"Distribution of BENEFICIARIES on the basis of States\\n\", fontdict=title_font_dict)"
   ]
  },
  {
   "cell_type": "code",
   "execution_count": null,
   "id": "14a3a51f",
   "metadata": {},
   "outputs": [],
   "source": [
    "imgChart11 = Helpers.createTemplateOutputPlotlibChart(context, \n",
    "                                                    chartTitle='\"Distribution of BENEFICIARIES on the basis of States\\n',\n",
    "                                                    plt=plt)"
   ]
  },
  {
   "cell_type": "code",
   "execution_count": null,
   "id": "de5b2691",
   "metadata": {},
   "outputs": [],
   "source": [
    "# Here, I'm displaying the distribution of BENEFICIARIES on the basis of NoOfMonths_PartACov\n",
    "with plt.style.context('seaborn-poster'):\n",
    "  plt.figure(figsize=(18,8))\n",
    "  fig = train_bene_df['NoOfMonths_PartACov'].value_counts().plot(kind='bar', color='palegreen')\n",
    "  # Using the \"patches\" function we will get the location of the rectangle bars from the graph.\n",
    "  ## Then by using those location(width & height) values we will add the annotations\n",
    "  for p in fig.patches:\n",
    "    width = p.get_width()\n",
    "    height = p.get_height()\n",
    "    x, y = p.get_xy()\n",
    "    fig.annotate(f'{str(round((height*100)/train_bene_df.shape[0],2))+\"%\"}', (x + width/2, y + height*1.03), ha='center', fontsize=13.5, rotation=90)\n",
    "  # Providing the labels and title to the graph\n",
    "  plt.xlabel(\"\\nMonths for Part-A Coverage\", fontdict=label_font_dict)\n",
    "  plt.ylabel(\"Number or % share of patients\\n\", fontdict=label_font_dict)\n",
    "  plt.grid(which='major', linestyle=\"--\", color='lightgrey')\n",
    "  plt.minorticks_on()\n",
    "  plt.title(\"Distribution of BENEFICIARIES on the basis of 'NoOfMonths_PartACov'\", fontdict=title_font_dict)"
   ]
  },
  {
   "cell_type": "code",
   "execution_count": null,
   "id": "451ff1d8",
   "metadata": {},
   "outputs": [],
   "source": [
    "imgChart12 = Helpers.createTemplateOutputPlotlibChart(context, \n",
    "                                                    chartTitle=\"Distribution of BENEFICIARIES on the basis of NoOfMonths_PartACov\",\n",
    "                                                    plt=plt)"
   ]
  },
  {
   "cell_type": "code",
   "execution_count": null,
   "id": "7c5c132f",
   "metadata": {},
   "outputs": [],
   "source": [
    "# Here, I'm displaying the distribution of BENEFICIARIES on the basis of NoOfMonths_PartBCov\n",
    "with plt.style.context('seaborn-poster'):\n",
    "  plt.figure(figsize=(18,8))\n",
    "  fig = train_bene_df['NoOfMonths_PartBCov'].value_counts().plot(kind='bar', color='palegreen')\n",
    "  # Using the \"patches\" function we will get the location of the rectangle bars from the graph.\n",
    "  ## Then by using those location(width & height) values we will add the annotations\n",
    "  for p in fig.patches:\n",
    "    width = p.get_width()\n",
    "    height = p.get_height()\n",
    "    x, y = p.get_xy()\n",
    "    fig.annotate(f'{str(round((height*100)/train_bene_df.shape[0],2))+\"%\"}', (x + width/2, y + height*1.03), ha='center', fontsize=13.5, rotation=90)\n",
    "  # Providing the labels and title to the graph\n",
    "  plt.xlabel(\"\\nMonths for Part-B Coverage\", fontdict=label_font_dict)\n",
    "  plt.ylabel(\"Number or % share of patients\\n\", fontdict=label_font_dict)\n",
    "  plt.grid(which='major', linestyle=\"--\", color='lightgrey')\n",
    "  plt.minorticks_on()\n",
    "  plt.title(\"Distribution of BENEFICIARIES on the basis of 'NoOfMonths_PartBCov'\", fontdict=title_font_dict)"
   ]
  },
  {
   "cell_type": "code",
   "execution_count": null,
   "id": "d58e0dfd",
   "metadata": {},
   "outputs": [],
   "source": [
    "imgChart13 = Helpers.createTemplateOutputPlotlibChart(context, \n",
    "                                                    chartTitle=\"Distribution of BENEFICIARIES on the basis of 'NoOfMonths_PartBCov'\",\n",
    "                                                    plt=plt)"
   ]
  },
  {
   "cell_type": "code",
   "execution_count": null,
   "id": "3e241193",
   "metadata": {},
   "outputs": [],
   "source": [
    "# Here, I'm displaying the distribution of BENEFICIARIES on the basis of 'ChronicCond_Alzheimer'\n",
    "with plt.style.context('seaborn-poster'):\n",
    "  plt.figure(figsize=(12,8))\n",
    "  fig = train_bene_df['ChronicCond_Alzheimer'].value_counts().plot(kind='bar', color=['palegreen','orange'])\n",
    "  # Using the \"patches\" function we will get the location of the rectangle bars from the graph.\n",
    "  ## Then by using those location(width & height) values we will add the annotations\n",
    "  for p in fig.patches:\n",
    "    width = p.get_width()\n",
    "    height = p.get_height()\n",
    "    x, y = p.get_xy()\n",
    "    fig.annotate(f'{str(round((height*100)/train_bene_df.shape[0],2))+\"%\"}', (x + width/2, y + height*1.01), ha='center', fontsize=13.5, rotation=0)\n",
    "  # Providing the labels and title to the graph\n",
    "  plt.xlabel(\"\\nHaving Chronic ALZH Disease?\", fontdict=label_font_dict)\n",
    "  plt.xticks(ticks=[0,1], labels=['NO', 'YES'], fontsize=13, rotation=30)\n",
    "  plt.ylabel(\"Number or % share of patients\\n\", fontdict=label_font_dict)\n",
    "  plt.grid(which='major', linestyle=\"--\", color='lightgrey')\n",
    "  plt.minorticks_on()\n",
    "  plt.title(\"Distribution of BENEFICIARIES on the basis of 'ChronicCond_Alzheimer'\\n\", fontdict=title_font_dict)\n",
    "\n",
    "# 1 means +ve with Chronic ALZH Disease\n",
    "# 2 means -ve with Chronic ALZH Disease\n",
    "print(pd.DataFrame(train_bene_df['ChronicCond_Alzheimer'].value_counts()),\"\\n\")"
   ]
  },
  {
   "cell_type": "code",
   "execution_count": null,
   "id": "7a9f40a4",
   "metadata": {},
   "outputs": [],
   "source": [
    "imgChart14 = Helpers.createTemplateOutputPlotlibChart(context, \n",
    "                                                    chartTitle=\"Distribution of BENEFICIARIES on the basis of 'ChronicCond_Alzheimer'\\n\",\n",
    "                                                    plt=plt)"
   ]
  },
  {
   "cell_type": "code",
   "execution_count": null,
   "id": "7da0ba5e",
   "metadata": {},
   "outputs": [],
   "source": [
    "# Here, I'm displaying the Total Annual Sum of Max IP Reimbursement for 'ChronicCond_Alzheimer'\n",
    "with plt.style.context('seaborn-poster'):\n",
    "  plt.figure(figsize=(12,8))\n",
    "  fig = train_bene_df.groupby(['ChronicCond_Alzheimer'])['IPAnnualReimbursementAmt'].sum().plot(kind='bar', color=['orange','palegreen'])\n",
    "  # Using the \"patches\" function we will get the location of the rectangle bars from the graph.\n",
    "  ## Then by using those location(width & height) values we will add the annotations\n",
    "  for p in fig.patches:\n",
    "    width = p.get_width()\n",
    "    height = p.get_height()\n",
    "    x, y = p.get_xy()\n",
    "    fig.annotate(f'{str(round((height*100)/(train_bene_df[\"IPAnnualReimbursementAmt\"].sum()),2))+\"%\"}', (x + width/2, y + height*1.01), ha='center', fontsize=13.5, rotation=0)\n",
    "  # Providing the labels and title to the graph\n",
    "  plt.xlabel(\"\\nHaving Chronic ALZH Disease?\", fontdict=label_font_dict)\n",
    "  plt.xticks(ticks=[0,1], labels=['YES', 'NO'], fontsize=13, rotation=30)\n",
    "  plt.ylabel(\"Total Annual Sum of Max IP Reimbursement \\n\", fontdict=label_font_dict)\n",
    "  plt.grid(which='major', linestyle=\"--\", color='lightgrey')\n",
    "  plt.minorticks_on()\n",
    "  plt.title(\"Total Annual Sum of Max IP Reimbursement : 'ChronicCond_Alzheimer'\\n\", fontdict=title_font_dict)\n",
    "\n",
    "# 1 means +ve with Chronic ALZH Disease\n",
    "# 2 means -ve with Chronic ALZH Disease\n",
    "print(pd.DataFrame(train_bene_df.groupby(['ChronicCond_Alzheimer'])['IPAnnualReimbursementAmt'].sum()),\"\\n\")"
   ]
  },
  {
   "cell_type": "code",
   "execution_count": null,
   "id": "749f129f",
   "metadata": {},
   "outputs": [],
   "source": [
    "imgChart16 = Helpers.createTemplateOutputPlotlibChart(context, \n",
    "                                                    chartTitle=\"Total Annual Sum of Max IP Reimbursement : 'ChronicCond_Alzheimer'\\n\",\n",
    "                                                    plt=plt)"
   ]
  },
  {
   "cell_type": "code",
   "execution_count": null,
   "id": "9f3319ae",
   "metadata": {},
   "outputs": [],
   "source": []
  },
  {
   "cell_type": "code",
   "execution_count": null,
   "id": "ee4254e1",
   "metadata": {},
   "outputs": [],
   "source": [
    "CC_ALZH_IP_R = pd.DataFrame(train_bene_df.groupby(['ChronicCond_Alzheimer'])['IPAnnualReimbursementAmt'].sum() / train_bene_df.groupby(['ChronicCond_Alzheimer'])['BeneID'].count())\n",
    "CC_ALZH_IP_R.columns = ['AVG IP Reimbursement Amt']"
   ]
  },
  {
   "cell_type": "code",
   "execution_count": null,
   "id": "f4706dcc",
   "metadata": {},
   "outputs": [],
   "source": [
    "CC_ALZH_OP_R = pd.DataFrame(train_bene_df.groupby(['ChronicCond_Alzheimer'])['OPAnnualReimbursementAmt'].sum() / train_bene_df.groupby(['ChronicCond_Alzheimer'])['BeneID'].count())\n",
    "CC_ALZH_OP_R.columns = ['AVG OP Reimbursement Amt']"
   ]
  },
  {
   "cell_type": "code",
   "execution_count": null,
   "id": "dd538590",
   "metadata": {},
   "outputs": [],
   "source": [
    "CC_ALZH_IP_D = pd.DataFrame(train_bene_df.groupby(['ChronicCond_Alzheimer'])['IPAnnualDeductibleAmt'].sum() / train_bene_df.groupby(['ChronicCond_Alzheimer'])['BeneID'].count())\n",
    "CC_ALZH_IP_D.columns = ['AVG IP Co-payment Amt']"
   ]
  },
  {
   "cell_type": "code",
   "execution_count": null,
   "id": "36c7dd75",
   "metadata": {},
   "outputs": [],
   "source": [
    "CC_ALZH_OP_D = pd.DataFrame(train_bene_df.groupby(['ChronicCond_Alzheimer'])['OPAnnualDeductibleAmt'].sum() / train_bene_df.groupby(['ChronicCond_Alzheimer'])['BeneID'].count())\n",
    "CC_ALZH_OP_D.columns = ['AVG OP Co-payment Amt']"
   ]
  },
  {
   "cell_type": "code",
   "execution_count": null,
   "id": "b143ce92",
   "metadata": {},
   "outputs": [],
   "source": [
    "CC_ALZH_all_amts = pd.concat([CC_ALZH_IP_R, CC_ALZH_OP_R, CC_ALZH_IP_D, CC_ALZH_OP_D], axis=1)"
   ]
  },
  {
   "cell_type": "code",
   "execution_count": null,
   "id": "6ed3c57c",
   "metadata": {},
   "outputs": [],
   "source": [
    "# Here, I'm displaying the Total Annual Sum of IP Co-payment for 'ChronicCond_Alzheimer'\n",
    "with plt.style.context('seaborn-poster'):\n",
    "  fig = CC_ALZH_all_amts.plot(kind='bar', colormap='rainbow')\n",
    "  # Using the \"patches\" function we will get the location of the rectangle bars from the graph.\n",
    "  ## Then by using those location(width & height) values we will add the annotations\n",
    "  for p in fig.patches:\n",
    "    width = p.get_width()\n",
    "    height = p.get_height()\n",
    "    x, y = p.get_xy()\n",
    "    fig.annotate(f'{round(height,0)}', (x + width/2, y + height*1.015), ha='center', fontsize=12, rotation=0)\n",
    "  # Providing the labels and title to the graph\n",
    "  plt.xlabel(\"\\nHaving Chronic ALZH Disease?\", fontdict=label_font_dict)\n",
    "  plt.xticks(ticks=[0,1], labels=['YES', 'NO'], fontsize=13, rotation=30)\n",
    "  plt.ylabel(\"Total Annual Sum \\n\", fontdict=label_font_dict)\n",
    "  plt.grid(which='major', linestyle=\"-.\", color='lightgrey')\n",
    "  plt.minorticks_on()\n",
    "  plt.title(\"Total Annual Sum of various amounts : 'ChronicCond_Alzheimer'\\n\", fontdict=title_font_dict)\n",
    "\n",
    "# 1 means +ve with Chronic ALZH Disease\n",
    "# 2 means -ve with Chronic ALZH Disease\n",
    "print(CC_ALZH_all_amts,\"\\n\")"
   ]
  },
  {
   "cell_type": "code",
   "execution_count": null,
   "id": "0bbc5913",
   "metadata": {},
   "outputs": [],
   "source": [
    "imgChart17 = Helpers.createTemplateOutputPlotlibChart(context, \n",
    "                                                    chartTitle=\"Total Annual Sum of various amounts : 'ChronicCond_Alzheimer'\\n\",\n",
    "                                                    plt=plt)"
   ]
  },
  {
   "cell_type": "code",
   "execution_count": null,
   "id": "c248ceb0",
   "metadata": {},
   "outputs": [],
   "source": []
  },
  {
   "cell_type": "code",
   "execution_count": null,
   "id": "f074061e",
   "metadata": {},
   "outputs": [],
   "source": [
    "CC_KD_IP_R = pd.DataFrame(train_bene_df.groupby(['ChronicCond_KidneyDisease'])['IPAnnualReimbursementAmt'].sum() / train_bene_df.groupby(['ChronicCond_KidneyDisease'])['BeneID'].count())\n",
    "CC_KD_IP_R.columns = ['AVG IP Reimbursement Amt']\n",
    "CC_KD_OP_R = pd.DataFrame(train_bene_df.groupby(['ChronicCond_KidneyDisease'])['OPAnnualReimbursementAmt'].sum() / train_bene_df.groupby(['ChronicCond_KidneyDisease'])['BeneID'].count())\n",
    "CC_KD_OP_R.columns = ['AVG OP Reimbursement Amt']\n",
    "CC_KD_IP_D = pd.DataFrame(train_bene_df.groupby(['ChronicCond_KidneyDisease'])['IPAnnualDeductibleAmt'].sum() / train_bene_df.groupby(['ChronicCond_KidneyDisease'])['BeneID'].count())\n",
    "CC_KD_IP_D.columns = ['AVG IP Co-payment Amt']\n",
    "CC_KD_OP_D = pd.DataFrame(train_bene_df.groupby(['ChronicCond_KidneyDisease'])['OPAnnualDeductibleAmt'].sum() / train_bene_df.groupby(['ChronicCond_KidneyDisease'])['BeneID'].count())\n",
    "CC_KD_OP_D.columns = ['AVG OP Co-payment Amt']\n",
    "CC_KD_all_amts = pd.concat([CC_KD_IP_R, CC_KD_OP_R, CC_KD_IP_D, CC_KD_OP_D], axis=1)\n",
    " "
   ]
  },
  {
   "cell_type": "code",
   "execution_count": null,
   "id": "37cd167f",
   "metadata": {},
   "outputs": [],
   "source": [
    "# Here, I'm displaying the Total Annual Sum of IP Co-payment for 'ChronicCond_KidneyDisease'\n",
    "with plt.style.context('seaborn-poster'):\n",
    "  fig = CC_KD_all_amts.plot(kind='bar', colormap='rainbow')\n",
    "  # Using the \"patches\" function we will get the location of the rectangle bars from the graph.\n",
    "  ## Then by using those location(width & height) values we will add the annotations\n",
    "  for p in fig.patches:\n",
    "    width = p.get_width()\n",
    "    height = p.get_height()\n",
    "    x, y = p.get_xy()\n",
    "    fig.annotate(f'{round(height,0)}', (x + width/2, y + height*1.015), ha='center', fontsize=12, rotation=0)\n",
    "  # Providing the labels and title to the graph\n",
    "  plt.xlabel(\"\\nHaving Chronic KD Disease?\", fontdict=label_font_dict)\n",
    "  plt.xticks(ticks=[0,1], labels=['YES', 'NO'], fontsize=13, rotation=30)\n",
    "  plt.ylabel(\"Total Annual Sum \\n\", fontdict=label_font_dict)\n",
    "  plt.grid(which='major', linestyle=\"-.\", color='lightgrey')\n",
    "  plt.minorticks_on()\n",
    "  plt.title(\"Total Annual Sum of various amounts : 'ChronicCond_KidneyDisease'\\n\", fontdict=title_font_dict)\n",
    "\n",
    "# 1 means +ve with Chronic KD Disease\n",
    "# 2 means -ve with Chronic KD Disease\n",
    "# print(CC_KD_all_amts,\"\\n\")"
   ]
  },
  {
   "cell_type": "code",
   "execution_count": null,
   "id": "6e2ba1d2",
   "metadata": {},
   "outputs": [],
   "source": [
    "imgChart18 = Helpers.createTemplateOutputPlotlibChart(context, \n",
    "                                                    chartTitle=\"Total Annual Sum of various amounts : 'ChronicCond_KidneyDisease'\\n\",\n",
    "                                                    plt=plt)"
   ]
  },
  {
   "cell_type": "code",
   "execution_count": null,
   "id": "997521cc",
   "metadata": {},
   "outputs": [],
   "source": [
    "CC_CN_IP_R = pd.DataFrame(train_bene_df.groupby(['ChronicCond_Cancer'])['IPAnnualReimbursementAmt'].sum() / train_bene_df.groupby(['ChronicCond_Cancer'])['BeneID'].count())\n",
    "CC_CN_IP_R.columns = ['AVG IP Reimbursement Amt']\n",
    "CC_CN_OP_R = pd.DataFrame(train_bene_df.groupby(['ChronicCond_Cancer'])['OPAnnualReimbursementAmt'].sum() / train_bene_df.groupby(['ChronicCond_Cancer'])['BeneID'].count())\n",
    "CC_CN_OP_R.columns = ['AVG OP Reimbursement Amt']\n",
    "CC_CN_IP_D = pd.DataFrame(train_bene_df.groupby(['ChronicCond_Cancer'])['IPAnnualDeductibleAmt'].sum() / train_bene_df.groupby(['ChronicCond_Cancer'])['BeneID'].count())\n",
    "CC_CN_IP_D.columns = ['AVG IP Co-payment Amt']\n",
    "CC_CN_OP_D = pd.DataFrame(train_bene_df.groupby(['ChronicCond_Cancer'])['OPAnnualDeductibleAmt'].sum() / train_bene_df.groupby(['ChronicCond_Cancer'])['BeneID'].count())\n",
    "CC_CN_OP_D.columns = ['AVG OP Co-payment Amt']\n",
    "CC_CN_all_amts = pd.concat([CC_CN_IP_R, CC_CN_OP_R, CC_CN_IP_D, CC_CN_OP_D], axis=1)"
   ]
  },
  {
   "cell_type": "code",
   "execution_count": null,
   "id": "e2fc9726",
   "metadata": {},
   "outputs": [],
   "source": [
    "# Here, I'm displaying the Total Annual Sum of IP Co-payment for 'ChronicCond_Cancer'\n",
    "with plt.style.context('seaborn-poster'):\n",
    "  fig = CC_CN_all_amts.plot(kind='bar', colormap='rainbow')\n",
    "  # Using the \"patches\" function we will get the location of the rectangle bars from the graph.\n",
    "  ## Then by using those location(width & height) values we will add the annotations\n",
    "  for p in fig.patches:\n",
    "    width = p.get_width()\n",
    "    height = p.get_height()\n",
    "    x, y = p.get_xy()\n",
    "    fig.annotate(f'{round(height,0)}', (x + width/2, y + height*1.015), ha='center', fontsize=12, rotation=0)\n",
    "  # Providing the labels and title to the graph\n",
    "  plt.xlabel(\"\\nHaving Chronic CN Disease?\", fontdict=label_font_dict)\n",
    "  plt.xticks(ticks=[0,1], labels=['YES', 'NO'], fontsize=13, rotation=30)\n",
    "  plt.ylabel(\"Total Annual Sum \\n\", fontdict=label_font_dict)\n",
    "  plt.grid(which='major', linestyle=\"-.\", color='lightgrey')\n",
    "  plt.minorticks_on()\n",
    "  plt.title(\"Total Annual Sum of various amounts : 'ChronicCond_Cancer'\\n\", fontdict=title_font_dict)\n",
    "\n",
    "# 1 means +ve with Chronic CN Disease\n",
    "# 2 means -ve with Chronic CN Disease\n",
    "# print(CC_CN_all_amts,\"\\n\")"
   ]
  },
  {
   "cell_type": "code",
   "execution_count": null,
   "id": "5893dc43",
   "metadata": {},
   "outputs": [],
   "source": [
    "imgChart19 = Helpers.createTemplateOutputPlotlibChart(context, \n",
    "                                                    chartTitle=\"Total Annual Sum of various amounts : 'ChronicCond_Cancer'\\n\",\n",
    "                                                    plt=plt)"
   ]
  },
  {
   "cell_type": "code",
   "execution_count": null,
   "id": "4ef5b0e7",
   "metadata": {},
   "outputs": [],
   "source": [
    "RKD_IP_R = pd.DataFrame(train_bene_df.groupby(['RenalDiseaseIndicator'])['IPAnnualReimbursementAmt'].sum() / train_bene_df.groupby(['RenalDiseaseIndicator'])['BeneID'].count())\n",
    "RKD_IP_R.columns = ['AVG IP Reimbursement Amt']\n",
    "RKD_OP_R = pd.DataFrame(train_bene_df.groupby(['RenalDiseaseIndicator'])['OPAnnualReimbursementAmt'].sum() / train_bene_df.groupby(['RenalDiseaseIndicator'])['BeneID'].count())\n",
    "RKD_OP_R.columns = ['AVG OP Reimbursement Amt']\n",
    "RKD_IP_D = pd.DataFrame(train_bene_df.groupby(['RenalDiseaseIndicator'])['IPAnnualDeductibleAmt'].sum() / train_bene_df.groupby(['RenalDiseaseIndicator'])['BeneID'].count())\n",
    "RKD_IP_D.columns = ['AVG IP Co-payment Amt']\n",
    "RKD_OP_D = pd.DataFrame(train_bene_df.groupby(['RenalDiseaseIndicator'])['OPAnnualDeductibleAmt'].sum() / train_bene_df.groupby(['RenalDiseaseIndicator'])['BeneID'].count())\n",
    "RKD_OP_D.columns = ['AVG OP Co-payment Amt']\n",
    "RKD_all_amts = pd.concat([RKD_IP_R, RKD_OP_R, RKD_IP_D, RKD_OP_D], axis=1)"
   ]
  },
  {
   "cell_type": "code",
   "execution_count": null,
   "id": "1620df2d",
   "metadata": {},
   "outputs": [],
   "source": [
    "# Here, I'm displaying the Total Annual Sum of IP Co-payment for 'RenalDiseaseIndicator'\n",
    "with plt.style.context('seaborn-poster'):\n",
    "  fig = RKD_all_amts.plot(kind='bar', colormap='rainbow')\n",
    "  # Using the \"patches\" function we will get the location of the rectangle bars from the graph.\n",
    "  ## Then by using those location(width & height) values we will add the annotations\n",
    "  for p in fig.patches:\n",
    "    width = p.get_width()\n",
    "    height = p.get_height()\n",
    "    x, y = p.get_xy()\n",
    "    fig.annotate(f'{round(height,0)}', (x + width/2, y + height*1.015), ha='center', fontsize=12, rotation=0)\n",
    "  # Providing the labels and title to the graph\n",
    "  plt.xlabel(\"\\nHaving Chronic Renal Kidney Disease?\", fontdict=label_font_dict)\n",
    "  plt.xticks(ticks=[0,1], labels=['NO', 'YES'], fontsize=13, rotation=30)\n",
    "  plt.ylabel(\"Total Annual Sum \\n\", fontdict=label_font_dict)\n",
    "  plt.grid(which='major', linestyle=\"-.\", color='lightgrey')\n",
    "  plt.minorticks_on()\n",
    "  plt.title(\"Total Annual Sum of various amounts : 'RenalDiseaseIndicator'\\n\", fontdict=title_font_dict)\n",
    "\n",
    "# Y means +ve with Renal Kidney Disease\n",
    "# 0 means -ve with Renal Kidney Disease"
   ]
  },
  {
   "cell_type": "code",
   "execution_count": null,
   "id": "1abecb00",
   "metadata": {},
   "outputs": [],
   "source": [
    "imgChart19 = Helpers.createTemplateOutputPlotlibChart(context, \n",
    "                                                    chartTitle=\"Total Annual Sum of various amounts : 'RenalDiseaseIndicator'\\n\",\n",
    "                                                    plt=plt)"
   ]
  },
  {
   "cell_type": "code",
   "execution_count": null,
   "id": "5bb89f42",
   "metadata": {},
   "outputs": [],
   "source": [
    "def cal_display_percentiles(x_col, y_col, title_lbl, x_filter_code):\n",
    "    \"\"\"\n",
    "    Description : This function is created for calculating and generating the percentiles for pre-disease indicators.\n",
    "    \n",
    "    Input: It accepts below parameters:\n",
    "        1. x_col : Disease indicator feature name.\n",
    "        2. y_col : Feature like re-imbursement or deductible amount whose percentiles you want to generate.\n",
    "        3. title_lbl : Label to be provided in the title of the plot.\n",
    "        4. x_filter_code : Category code for which you want to generate the percentiles.\n",
    "        \n",
    "    Output: It returns the dataframe having percentiles and their respective values for the specific disease indicator feature.\n",
    "    And, it displays the pointplot graph of the same.\n",
    "    \"\"\"\n",
    "    percentiles = []\n",
    "    percentiles_vals = []\n",
    "\n",
    "    # Calculating & storing the various percentiles and their respective values\n",
    "    for val in [0.1,0.2,0.25,0.3,0.4,0.5,0.6,0.7,0.75,0.8,0.9,0.91,0.92,0.93,0.94,0.95,0.96,0.97,0.98,0.99,0.999,0.9999,0.99999,0.999999,1.0]:\n",
    "        percentile = round(float(val*100),6)\n",
    "        percentiles.append(percentile)\n",
    "\n",
    "        percentile_val = round(train_bene_df[train_bene_df[x_col] == x_filter_code][y_col].quantile(val),1)\n",
    "        percentiles_vals.append(percentile_val)\n",
    "\n",
    "    # Creating the temp dataframe for displaying the results\n",
    "    tmp_percentiles = pd.DataFrame([percentiles, percentiles_vals]).T\n",
    "    tmp_percentiles.columns = ['Percentiles', 'Values']\n",
    "\n",
    "    # Here, I'm displaying the Percentiles values for all disease code features\n",
    "    with plt.style.context('seaborn-poster'):\n",
    "        plt.figure(figsize=(15,7))\n",
    "        sns.pointplot(data=tmp_percentiles, x='Percentiles', y='Values', markers=\"o\", palette='spring')\n",
    "        sns.pointplot(data=tmp_percentiles, x='Percentiles', y='Values', markers=\"\", color='grey', linestyles=\"solid\")\n",
    "        # Providing the labels and title to the graph\n",
    "        plt.xlabel(\"\\nPercentiles\", fontdict=label_font_dict)\n",
    "        plt.xticks(rotation=90, size=12)\n",
    "        plt.ylabel(\"Total Annual `{}` Sum \\n\".format(y_col), fontdict=label_font_dict)\n",
    "        plt.grid(which='major', linestyle=\"-.\", color='lightpink')\n",
    "        plt.minorticks_on()\n",
    "        plt.title(\"Percentile values of `{}` :: `{}`\\n\".format(y_col,title_lbl), fontdict=title_font_dict)\n",
    "        \n",
    "    return tmp_percentiles"
   ]
  },
  {
   "cell_type": "code",
   "execution_count": null,
   "id": "676296e3",
   "metadata": {},
   "outputs": [],
   "source": [
    "RKD_YES_IP_R_percentiles = cal_display_percentiles(x_col='RenalDiseaseIndicator', \n",
    "                                                   y_col='IPAnnualReimbursementAmt',\n",
    "                                                   title_lbl=\"Renal Kidney Disease = YES\",\n",
    "                                                   x_filter_code='Y')\n",
    "\n"
   ]
  },
  {
   "cell_type": "code",
   "execution_count": null,
   "id": "c9756eac",
   "metadata": {},
   "outputs": [],
   "source": [
    "imgChart20 = Helpers.createTemplateOutputPlotlibChart(context, \n",
    "                                                    chartTitle=\"Renal Kidney Disease = YES\",\n",
    "                                                    plt=plt)"
   ]
  },
  {
   "cell_type": "code",
   "execution_count": null,
   "id": "eb08ad00",
   "metadata": {},
   "outputs": [],
   "source": [
    "RKD_NO_IP_R_percentiles = cal_display_percentiles(x_col='RenalDiseaseIndicator', \n",
    "                                                   y_col='IPAnnualReimbursementAmt',\n",
    "                                                   title_lbl=\"Renal Kidney Disease = NO\",\n",
    "                                                   x_filter_code='0')"
   ]
  },
  {
   "cell_type": "code",
   "execution_count": null,
   "id": "a739f5e9",
   "metadata": {},
   "outputs": [],
   "source": [
    "imgChart21 = Helpers.createTemplateOutputPlotlibChart(context, \n",
    "                                                    chartTitle=\"Renal Kidney Disease = NO\",\n",
    "                                                    plt=plt)"
   ]
  },
  {
   "cell_type": "code",
   "execution_count": null,
   "id": "edc8d09a",
   "metadata": {},
   "outputs": [],
   "source": [
    "with plt.style.context('seaborn-poster'):\n",
    "    plt.figure(figsize=(12,12))\n",
    "    sns.boxenplot(data=train_bene_df, x='AGE_groups', y='IPAnnualReimbursementAmt', hue='Gender', palette='cubehelix')\n",
    "    plt.minorticks_on()\n",
    "    plt.title(\"Spread of payment paid by payer across age groups\\n\", fontdict=title_font_dict)"
   ]
  },
  {
   "cell_type": "code",
   "execution_count": null,
   "id": "3c10b0f9",
   "metadata": {},
   "outputs": [],
   "source": [
    "imgChart22 = Helpers.createTemplateOutputPlotlibChart(context, \n",
    "                                                    chartTitle=\"Spread of IPAnnualReimbursementAmt  payment paid by payer across age groups\\n\",\n",
    "                                                    plt=plt)"
   ]
  },
  {
   "cell_type": "code",
   "execution_count": null,
   "id": "25877387",
   "metadata": {},
   "outputs": [],
   "source": [
    "with plt.style.context('seaborn-poster'):\n",
    "    plt.figure(figsize=(12,12))\n",
    "    sns.boxenplot(data=train_bene_df, x='AGE_groups', y='OPAnnualReimbursementAmt', hue='Gender', palette='cubehelix')\n",
    "    plt.minorticks_on()\n",
    "    plt.title(\"Spread of payment paid by payer across age groups\\n\", fontdict=title_font_dict)"
   ]
  },
  {
   "cell_type": "code",
   "execution_count": null,
   "id": "6c52d5a3",
   "metadata": {},
   "outputs": [],
   "source": [
    "imgChart23 = Helpers.createTemplateOutputPlotlibChart(context, \n",
    "                                                    chartTitle=\"Spread of OPAnnualReimbursementAmt  payment paid by payer across age groups\\n\",\n",
    "                                                    plt=plt)"
   ]
  },
  {
   "cell_type": "code",
   "execution_count": null,
   "id": "e0dea315",
   "metadata": {},
   "outputs": [],
   "source": [
    "with plt.style.context('seaborn-poster'):\n",
    "    plt.figure(figsize=(12,8))\n",
    "    sns.boxenplot(data=train_bene_df, x='Dead_or_Alive', y='IPAnnualReimbursementAmt', hue='Gender', palette='autumn')\n",
    "    plt.minorticks_on()\n",
    "    plt.title(\"Spread of payment paid by payer based on life status\\n\", fontdict=title_font_dict)"
   ]
  },
  {
   "cell_type": "code",
   "execution_count": null,
   "id": "dcd12b37",
   "metadata": {},
   "outputs": [],
   "source": [
    "imgChart24 = Helpers.createTemplateOutputPlotlibChart(context, \n",
    "                                                    chartTitle=\"Spread of IPAnnualReimbursementAmt payment paid by payer based on life status\\n\",\n",
    "                                                    plt=plt)"
   ]
  },
  {
   "cell_type": "code",
   "execution_count": null,
   "id": "382f28f4",
   "metadata": {},
   "outputs": [],
   "source": [
    "with plt.style.context('seaborn-poster'):\n",
    "    plt.figure(figsize=(12,8))\n",
    "    sns.boxenplot(data=train_bene_df, x='Dead_or_Alive', y='OPAnnualReimbursementAmt', hue='Gender', palette='autumn')\n",
    "    plt.minorticks_on()\n",
    "    plt.title(\"Spread of payment paid by payer based on life status\\n\", fontdict=title_font_dict)"
   ]
  },
  {
   "cell_type": "code",
   "execution_count": null,
   "id": "8f9fb6c9",
   "metadata": {},
   "outputs": [],
   "source": [
    "imgChart25 = Helpers.createTemplateOutputPlotlibChart(context, \n",
    "                                                    chartTitle=\"Spread of OPAnnualReimbursementAmt payment paid by payer based on life status\\n\",\n",
    "                                                    plt=plt)"
   ]
  },
  {
   "cell_type": "code",
   "execution_count": null,
   "id": "7f563875",
   "metadata": {},
   "outputs": [],
   "source": []
  },
  {
   "cell_type": "code",
   "execution_count": null,
   "id": "b77deeb9",
   "metadata": {},
   "outputs": [],
   "source": [
    "# imgChart = Helpers.createTemplateOutputPlotlibChart(context, chartTitle='Distribution of BENEFICIARIES based on GENDER',\n",
    "#                                                     plt=plt)\n",
    "# imgChart2 = Helpers.createTemplateOutputPlotlibChart(context, \n",
    "#                                                     chartTitle='Distribution of BENEFICIARIES based on their YEAR of birth',\n",
    "#                                                     plt=plt)\n",
    "# imgChart3 = Helpers.createTemplateOutputPlotlibChart(context, \n",
    "#                                                     chartTitle='Distribution of BENEFICIARIES based on their MONTH of birth',\n",
    "#                                                     plt=plt)\n",
    "# imgChart4 = Helpers.createTemplateOutputPlotlibChart(context, \n",
    "#                                                     chartTitle='Distribution of BENEFICIARIES based on Alive or Dead Status',\n",
    "#                                                     plt=plt)\n",
    "\n",
    "# imgChart5 = Helpers.createTemplateOutputPlotlibChart(context, \n",
    "#                                                     chartTitle='Distribution of BENEFICIARIES AGE',\n",
    "#                                                     plt=plt)\n",
    "# imgChart6 = Helpers.createTemplateOutputPlotlibChart(context, \n",
    "#                                                     chartTitle='Distribution of BENEFICIARIES Age group',\n",
    "#                                                     plt=plt)\n",
    "# imgChart7 = Helpers.createTemplateOutputPlotlibChart(context, \n",
    "#                                                     chartTitle='Distribution of BENEFICIARIES on the basis of Human RACE',\n",
    "#                                                     plt=plt)\n",
    "\n",
    "# imgChart8 = Helpers.createTemplateOutputPlotlibChart(context, \n",
    "#                                                     chartTitle='Distribution of BENEFICIARIES on the basis of Human RACE',\n",
    "#                                                     plt=plt)\n",
    "# imgChart7 = Helpers.createTemplateOutputPlotlibChart(context, \n",
    "#                                                     chartTitle='Distribution of BENEFICIARIES on the basis of Human RACE',\n",
    "#                                                     plt=plt)\n",
    "\n",
    "\n",
    "outputCollection = Helpers.createOutputCollection(context)\n",
    "\n",
    "\n",
    "outputCollection.addTemplateOutput(imgChart)\n",
    "outputCollection.addTemplateOutput(imgChart2)\n",
    "outputCollection.addTemplateOutput(imgChart3)\n",
    "outputCollection.addTemplateOutput(imgChart4)\n",
    "outputCollection.addTemplateOutput(imgChart5)\n",
    "outputCollection.addTemplateOutput(imgChart6)\n",
    "outputCollection.addTemplateOutput(imgChart7)\n",
    "outputCollection.addTemplateOutput(imgChart8)\n",
    "outputCollection.addTemplateOutput(imgChart9)\n",
    "outputCollection.addTemplateOutput(imgChart10)\n",
    "\n",
    "outputCollection.addTemplateOutput(imgChart11)\n",
    "outputCollection.addTemplateOutput(imgChart12)\n",
    "outputCollection.addTemplateOutput(imgChart13)\n",
    "outputCollection.addTemplateOutput(imgChart14)\n",
    "# outputCollection.addTemplateOutput(imgChart15)\n",
    "outputCollection.addTemplateOutput(imgChart16)\n",
    "outputCollection.addTemplateOutput(imgChart17)\n",
    "outputCollection.addTemplateOutput(imgChart18)\n",
    "outputCollection.addTemplateOutput(imgChart19)\n",
    "outputCollection.addTemplateOutput(imgChart20)\n",
    "outputCollection.addTemplateOutput(imgChart21)\n",
    "\n",
    "\n",
    "\n",
    "Helpers.save(context)"
   ]
  },
  {
   "cell_type": "markdown",
   "id": "f74b08d5",
   "metadata": {},
   "source": [
    "Helpers.save(context)"
   ]
  },
  {
   "cell_type": "markdown",
   "id": "8405014c",
   "metadata": {},
   "source": [
    "outputCollection2 = Helpers.createOutputCollection(context)\n",
    "imgChart2 = Helpers.createTemplateOutputPlotlibChart(context, \n",
    "                                                    chartTitle='Distribution of BENEFICIARIES based on their YEAR of birth',\n",
    "                                                    plt=plt)\n",
    "\n",
    "outputCollection2.addTemplateOutput(imgChart2)"
   ]
  },
  {
   "cell_type": "markdown",
   "id": "c96cdc2e",
   "metadata": {},
   "source": [
    "Helpers.save(context)"
   ]
  },
  {
   "cell_type": "markdown",
   "id": "bec827d6",
   "metadata": {},
   "source": [
    "outputCollection3 = Helpers.createOutputCollection(context)\n",
    "imgChart3 = Helpers.createTemplateOutputPlotlibChart(context, \n",
    "                                                    chartTitle='Distribution of BENEFICIARIES based on their MONTH of birth',\n",
    "                                                    plt=plt)\n",
    "\n",
    "outputCollection3.addTemplateOutput(imgChart3)"
   ]
  },
  {
   "cell_type": "markdown",
   "id": "c31fcea3",
   "metadata": {},
   "source": [
    "Helpers.save(context)"
   ]
  },
  {
   "cell_type": "markdown",
   "id": "e31dc63f",
   "metadata": {},
   "source": [
    "outputCollection4 = Helpers.createOutputCollection(context)\n",
    "imgChart4 = Helpers.createTemplateOutputPlotlibChart(context, \n",
    "                                                    chartTitle='Distribution of BENEFICIARIES based on Alive or Dead Status',\n",
    "                                                    plt=plt)\n",
    "\n",
    "outputCollection4.addTemplateOutput(imgChart4)"
   ]
  },
  {
   "cell_type": "markdown",
   "id": "53eca0bd",
   "metadata": {},
   "source": [
    "Helpers.save(context)"
   ]
  },
  {
   "cell_type": "markdown",
   "id": "85af11a7",
   "metadata": {},
   "source": [
    "outputCollection5 = Helpers.createOutputCollection(context)\n",
    "imgChart5 = Helpers.createTemplateOutputPlotlibChart(context, \n",
    "                                                    chartTitle='Distribution of BENEFICIARIES AGE',\n",
    "                                                    plt=plt)\n",
    "\n",
    "outputCollection5.addTemplateOutput(imgChart5)"
   ]
  },
  {
   "cell_type": "markdown",
   "id": "735869a3",
   "metadata": {},
   "source": [
    "Helpers.save(context)"
   ]
  },
  {
   "cell_type": "markdown",
   "id": "5844327d",
   "metadata": {},
   "source": [
    "outputCollection6 = Helpers.createOutputCollection(context)\n",
    "imgChart6 = Helpers.createTemplateOutputPlotlibChart(context, \n",
    "                                                    chartTitle='Distribution of BENEFICIARIES Age group',\n",
    "                                                    plt=plt)\n",
    "\n",
    "outputCollection6.addTemplateOutput(imgChart6)"
   ]
  },
  {
   "cell_type": "markdown",
   "id": "4db58f8d",
   "metadata": {},
   "source": [
    "Helpers.save(context)"
   ]
  },
  {
   "cell_type": "markdown",
   "id": "fd5f7f97",
   "metadata": {},
   "source": [
    "outputCollection7 = Helpers.createOutputCollection(context)\n",
    "imgChart7 = Helpers.createTemplateOutputPlotlibChart(context, \n",
    "                                                    chartTitle='Distribution of BENEFICIARIES on the basis of Human RACE',\n",
    "                                                    plt=plt)\n",
    "\n",
    "outputCollection7.addTemplateOutput(imgChart7)"
   ]
  },
  {
   "cell_type": "markdown",
   "id": "f14890d6",
   "metadata": {},
   "source": [
    "Helpers.save(context)"
   ]
  },
  {
   "cell_type": "code",
   "execution_count": null,
   "id": "040701c0",
   "metadata": {},
   "outputs": [],
   "source": []
  },
  {
   "cell_type": "code",
   "execution_count": null,
   "id": "76f68711",
   "metadata": {},
   "outputs": [],
   "source": []
  },
  {
   "cell_type": "code",
   "execution_count": null,
   "id": "af9e9904",
   "metadata": {},
   "outputs": [],
   "source": []
  },
  {
   "cell_type": "code",
   "execution_count": null,
   "id": "744a466a",
   "metadata": {},
   "outputs": [],
   "source": []
  },
  {
   "cell_type": "code",
   "execution_count": null,
   "id": "e2f8156e",
   "metadata": {},
   "outputs": [],
   "source": []
  },
  {
   "cell_type": "code",
   "execution_count": null,
   "id": "9b64ebf2",
   "metadata": {},
   "outputs": [],
   "source": []
  },
  {
   "cell_type": "code",
   "execution_count": null,
   "id": "0266670a",
   "metadata": {},
   "outputs": [],
   "source": []
  },
  {
   "cell_type": "code",
   "execution_count": null,
   "id": "9581d170",
   "metadata": {},
   "outputs": [],
   "source": []
  },
  {
   "cell_type": "markdown",
   "id": "e3aaa3e8",
   "metadata": {},
   "source": []
  },
  {
   "cell_type": "markdown",
   "id": "4a4eb0a4",
   "metadata": {},
   "source": [
    "train_bene_df['Gender'] = train_bene_df['Gender'].apply(lambda val: 0 if val == 2 else 1)"
   ]
  },
  {
   "cell_type": "markdown",
   "id": "4fbf38fb",
   "metadata": {},
   "source": [
    "# Here, I'm displaying the distribution of BENEFICIARIES on the basis of GENDER \n",
    "with plt.style.context('seaborn'):\n",
    "    plt.figure(figsize=(10,8))\n",
    "    fig = train_bene_df['Gender'].value_counts().plot(kind='bar', color=['yellow','purple'])\n",
    "    # Using the \"patches\" function we will get the location of the rectangle bars from the graph.\n",
    "    ## Then by using those location(width & height) values we will add the annotations\n",
    "    for p in fig.patches:\n",
    "        width = p.get_width()\n",
    "        height = p.get_height()\n",
    "        x, y = p.get_xy()\n",
    "        fig.annotate(f'{str(round((height*100)/train_bene_df.shape[0],2))+\"%\"}', (x + width/2, y + height*1.015), ha='center', fontsize=13.5)\n",
    "    # Providing the labels and title to the graph\n",
    "    plt.xlabel(\"Gender Code\", fontdict=label_font_dict)\n",
    "    plt.ylabel(\"Number or % share of patients\\n\", fontdict=label_font_dict)\n",
    "    plt.grid(which='major', linestyle=\"--\", color='lightgrey')\n",
    "    plt.minorticks_on()\n",
    "    plt.title(\"Distribution of BENEFICIARIES based on GENDER\\n\", fontdict=title_font_dict)"
   ]
  },
  {
   "cell_type": "markdown",
   "id": "d8c68b18",
   "metadata": {},
   "source": [
    "outputCollection = Helpers.createOutputCollection(context)\n",
    "imgChart = Helpers.createTemplateOutputPlotlibChart(context, chartTitle='Gender', plt=plt)\n",
    "\n",
    "outputCollection.addTemplateOutput(imgChart)"
   ]
  },
  {
   "cell_type": "markdown",
   "id": "20315ddb",
   "metadata": {},
   "source": [
    "Helpers.cre"
   ]
  },
  {
   "cell_type": "markdown",
   "id": "44193433",
   "metadata": {},
   "source": [
    "Helpers.save(context)"
   ]
  }
 ],
 "metadata": {
  "kernelspec": {
   "display_name": "Python 3 (ipykernel)",
   "language": "python",
   "name": "python3"
  },
  "language_info": {
   "codemirror_mode": {
    "name": "ipython",
    "version": 3
   },
   "file_extension": ".py",
   "mimetype": "text/x-python",
   "name": "python",
   "nbconvert_exporter": "python",
   "pygments_lexer": "ipython3",
   "version": "3.8.5"
  }
 },
 "nbformat": 4,
 "nbformat_minor": 5
}
