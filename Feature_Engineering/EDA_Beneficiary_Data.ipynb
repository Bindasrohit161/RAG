{
 "cells": [
  {
   "cell_type": "code",
   "execution_count": 1,
   "id": "39d7867c",
   "metadata": {},
   "outputs": [],
   "source": [
    "import sys\n",
    "# sys.path.append('/Users/bernardoloureiro/template-lib')\n",
    "\n",
    "from utils.notebookhelpers.helpers import Helpers\n",
    "from utils.dtos.templateOutputCollection import TemplateOutputCollection\n",
    "from utils.dtos.variable import Metadata\n",
    "from utils.dtos.templateOutput import TemplateOutput\n",
    "from utils.dtos.templateOutput import OutputType\n",
    "from utils.dtos.templateOutput import ChartType\n",
    "import datetime\n",
    "import logging\n",
    "import pandas as pd\n",
    "import numpy as np\n",
    "import os\n",
    "from dateutil import parser\n",
    "logging.basicConfig(format='%(levelname)s:%(message)s', level=logging.INFO)\n",
    "import math\n",
    "import scipy as scipy\n",
    "import matplotlib.pyplot as plt\n",
    "import seaborn as sns\n",
    "import copy\n",
    "%matplotlib inline\n",
    "from sklearn.model_selection import train_test_split as tts\n",
    "from sklearn.preprocessing import RobustScaler\n",
    "from imblearn.over_sampling import ADASYN\n",
    "from sklearn.ensemble import RandomForestClassifier\n",
    "\n",
    "from collections import Counter\n",
    "from sklearn.linear_model import LogisticRegressionCV\n",
    "from sklearn import metrics\n",
    "from sklearn.metrics import accuracy_score, precision_score, recall_score, f1_score, roc_auc_score, confusion_matrix, roc_curve, auc\n",
    "# from sklearn.linear_model import LogisticRegression\n",
    "from sklearn.model_selection import GridSearchCV\n",
    "from sklearn.model_selection import RandomizedSearchCV\n",
    "from sklearn.calibration import CalibratedClassifierCV"
   ]
  },
  {
   "cell_type": "code",
   "execution_count": 2,
   "id": "28efa2a0",
   "metadata": {},
   "outputs": [
    {
     "name": "stderr",
     "output_type": "stream",
     "text": [
      "WARNING:Context is not present for given context_id: None. Make sure you declare context_id at the top of the cell and run prepareForLocal in your flow file before testing transform file.\n",
      "WARNING:Context is not present for given context_id: None. Make sure you declare context_id at the top of the cell and run prepareForLocal in your flow file before testing transform file.\n"
     ]
    }
   ],
   "source": [
    "inputDatasetParameter=Helpers.get_or_create_input_dataset(\n",
    "    name=\"inputBeneDataset2\",\n",
    "    metadata=Metadata(input_name='Bene_df', is_required=True, tooltip='Benefeciary Dataset for EDA'),\n",
    "    local_context=locals()\n",
    ")\n",
    "\n",
    "# Gender = Helpers.get_or_create_input_var(\n",
    "#     name=\"Gender\",\n",
    "#     metadata=Metadata(input_name=\"Longitude\", is_required=True, tooltip=\"Longitude\", multiple=False, datatypes=[\"DOUBLE\", \"LONG\"], options=['FIELDS', 'CONSTANT'], datasets=['GeoDataset']),\n",
    "#     local_context=locals()\n",
    "# )\n",
    "\n",
    "EDA_Beneficiary=Helpers.get_or_create_output_chart(\n",
    " name=\"EDA_Beneficiary_Data\",\n",
    "    metadata=Metadata(input_name='Gender_chart Chart Name', is_required=True, tooltip='Name of the chart to be created'),\n",
    "    local_context=locals()\n",
    ")"
   ]
  },
  {
   "cell_type": "code",
   "execution_count": 6,
   "id": "430af644",
   "metadata": {},
   "outputs": [],
   "source": [
    "contextId = \"EDA_Beneficiary_Data\"\n",
    "context = Helpers.getOrCreateContext(contextId = contextId, localVars=locals())"
   ]
  },
  {
   "cell_type": "code",
   "execution_count": 7,
   "id": "0e725fb9",
   "metadata": {
    "collapsed": true
   },
   "outputs": [
    {
     "ename": "KeyError",
     "evalue": "'entityPaths'",
     "output_type": "error",
     "traceback": [
      "\u001b[1;31m---------------------------------------------------------------------------\u001b[0m",
      "\u001b[1;31mKeyError\u001b[0m                                  Traceback (most recent call last)",
      "Input \u001b[1;32mIn [7]\u001b[0m, in \u001b[0;36m<cell line: 1>\u001b[1;34m()\u001b[0m\n\u001b[1;32m----> 1\u001b[0m entities\u001b[38;5;241m=\u001b[39m\u001b[43mHelpers\u001b[49m\u001b[38;5;241;43m.\u001b[39;49m\u001b[43mgetAllEntities\u001b[49m\u001b[43m(\u001b[49m\u001b[43mcontext\u001b[49m\u001b[43m)\u001b[49m\n\u001b[0;32m      2\u001b[0m BeneDataset \u001b[38;5;241m=\u001b[39m GeoDatasetParameter\u001b[38;5;241m.\u001b[39mvalue\n\u001b[0;32m      4\u001b[0m Gender_chart\u001b[38;5;241m=\u001b[39mGeoChartName\u001b[38;5;241m.\u001b[39mvalue\n",
      "File \u001b[1;32m~\\AppData\\Roaming\\Python\\Python38\\site-packages\\utils\\notebookhelpers\\helpers.py:213\u001b[0m, in \u001b[0;36mHelpers.getAllEntities\u001b[1;34m(context)\u001b[0m\n\u001b[0;32m    207\u001b[0m \u001b[38;5;124;03m\"\"\"\u001b[39;00m\n\u001b[0;32m    208\u001b[0m \u001b[38;5;124;03mReturns all the entity names in the context\u001b[39;00m\n\u001b[0;32m    209\u001b[0m \u001b[38;5;124;03m:param context:\u001b[39;00m\n\u001b[0;32m    210\u001b[0m \u001b[38;5;124;03m:return: list of all entity names\u001b[39;00m\n\u001b[0;32m    211\u001b[0m \u001b[38;5;124;03m\"\"\"\u001b[39;00m\n\u001b[0;32m    212\u001b[0m entities \u001b[38;5;241m=\u001b[39m []\n\u001b[1;32m--> 213\u001b[0m entityPaths \u001b[38;5;241m=\u001b[39m \u001b[43mcontext\u001b[49m\u001b[43m[\u001b[49m\u001b[38;5;124;43m'\u001b[39;49m\u001b[38;5;124;43mentityPaths\u001b[39;49m\u001b[38;5;124;43m'\u001b[39;49m\u001b[43m]\u001b[49m\n\u001b[0;32m    214\u001b[0m \u001b[38;5;28;01mfor\u001b[39;00m entityPath \u001b[38;5;129;01min\u001b[39;00m entityPaths:\n\u001b[0;32m    215\u001b[0m     entities\u001b[38;5;241m.\u001b[39mappend(entityPath[\u001b[38;5;124m'\u001b[39m\u001b[38;5;124mentity_name\u001b[39m\u001b[38;5;124m'\u001b[39m])\n",
      "\u001b[1;31mKeyError\u001b[0m: 'entityPaths'"
     ]
    }
   ],
   "source": [
    "entities=Helpers.getAllEntities(context)\n",
    "BeneDataset = inputDatasetParameter.value\n",
    "\n",
    "EDA_Beneficiary_name=EDA_Beneficiary.value"
   ]
  },
  {
   "cell_type": "code",
   "execution_count": null,
   "id": "5d1768ac",
   "metadata": {},
   "outputs": [],
   "source": [
    "df = Helpers.getEntityData(context,BeneDataset)"
   ]
  },
  {
   "cell_type": "code",
   "execution_count": null,
   "id": "e5c52417",
   "metadata": {},
   "outputs": [],
   "source": [
    "train_bene_df = df.copy()"
   ]
  },
  {
   "cell_type": "code",
   "execution_count": 2,
   "id": "50f6eddb",
   "metadata": {},
   "outputs": [],
   "source": [
    "pd.set_option('display.max_columns',30)\n",
    "label_font_dict = {'family':'sans-serif','size':13.5,'color':'brown','style':'italic'}\n",
    "title_font_dict = {'family':'sans-serif','size':16.5,'color':'Blue','style':'italic'}"
   ]
  },
  {
   "cell_type": "code",
   "execution_count": null,
   "id": "6f56f1a0",
   "metadata": {},
   "outputs": [],
   "source": [
    "train_bene_df['Gender'] = train_bene_df['Gender'].apply(lambda val: 0 if val == 2 else 1)"
   ]
  },
  {
   "cell_type": "code",
   "execution_count": null,
   "id": "87021831",
   "metadata": {},
   "outputs": [],
   "source": [
    "# Here, I'm displaying the distribution of BENEFICIARIES on the basis of GENDER \n",
    "with plt.style.context('seaborn'):\n",
    "    plt.figure(figsize=(10,8))\n",
    "    fig = train_bene_df['Gender'].value_counts().plot(kind='bar', color=['yellow','purple'])\n",
    "    # Using the \"patches\" function we will get the location of the rectangle bars from the graph.\n",
    "    ## Then by using those location(width & height) values we will add the annotations\n",
    "    for p in fig.patches:\n",
    "        width = p.get_width()\n",
    "        height = p.get_height()\n",
    "        x, y = p.get_xy()\n",
    "        fig.annotate(f'{str(round((height*100)/train_bene_df.shape[0],2))+\"%\"}', (x + width/2, y + height*1.015), ha='center', fontsize=13.5)\n",
    "    # Providing the labels and title to the graph\n",
    "    plt.xlabel(\"Gender Code\", fontdict=label_font_dict)\n",
    "    plt.ylabel(\"Number or % share of patients\\n\", fontdict=label_font_dict)\n",
    "    plt.grid(which='major', linestyle=\"--\", color='lightgrey')\n",
    "    plt.minorticks_on()\n",
    "    plt.title(\"Distribution of BENEFICIARIES based on GENDER\\n\", fontdict=title_font_dict)"
   ]
  },
  {
   "cell_type": "code",
   "execution_count": null,
   "id": "e785abcd",
   "metadata": {},
   "outputs": [],
   "source": [
    "outputCollection = Helpers.createOutputCollection(context)\n",
    "imgChart = Helpers.createTemplateOutputPlotlibChart(context, chartTitle='Distribution of BENEFICIARIES based on GENDER', plt=plt)\n",
    "\n",
    "outputCollection.addTemplateOutput(imgChart)"
   ]
  },
  {
   "cell_type": "code",
   "execution_count": null,
   "id": "7f3e8cd9",
   "metadata": {},
   "outputs": [],
   "source": [
    "Helpers.save(context)"
   ]
  },
  {
   "cell_type": "markdown",
   "id": "361476c1",
   "metadata": {},
   "source": [
    "### **Q3. Lets calculate the AGE of every BENEFICIARY?**"
   ]
  },
  {
   "cell_type": "code",
   "execution_count": 4,
   "id": "a1999929",
   "metadata": {
    "collapsed": true
   },
   "outputs": [
    {
     "ename": "NameError",
     "evalue": "name 'train_bene_df' is not defined",
     "output_type": "error",
     "traceback": [
      "\u001b[1;31m---------------------------------------------------------------------------\u001b[0m",
      "\u001b[1;31mNameError\u001b[0m                                 Traceback (most recent call last)",
      "Input \u001b[1;32mIn [4]\u001b[0m, in \u001b[0;36m<cell line: 1>\u001b[1;34m()\u001b[0m\n\u001b[1;32m----> 1\u001b[0m train_bene_df[\u001b[38;5;124m'\u001b[39m\u001b[38;5;124mDOB\u001b[39m\u001b[38;5;124m'\u001b[39m] \u001b[38;5;241m=\u001b[39m pd\u001b[38;5;241m.\u001b[39mto_datetime(\u001b[43mtrain_bene_df\u001b[49m[\u001b[38;5;124m'\u001b[39m\u001b[38;5;124mDOB\u001b[39m\u001b[38;5;124m'\u001b[39m], \u001b[38;5;28mformat\u001b[39m\u001b[38;5;241m=\u001b[39m\u001b[38;5;124m\"\u001b[39m\u001b[38;5;124m%\u001b[39m\u001b[38;5;124mY-\u001b[39m\u001b[38;5;124m%\u001b[39m\u001b[38;5;124mm-\u001b[39m\u001b[38;5;132;01m%d\u001b[39;00m\u001b[38;5;124m\"\u001b[39m)\n",
      "\u001b[1;31mNameError\u001b[0m: name 'train_bene_df' is not defined"
     ]
    }
   ],
   "source": [
    "train_bene_df['DOB'] = pd.to_datetime(train_bene_df['DOB'], format=\"%Y-%m-%d\")"
   ]
  },
  {
   "cell_type": "code",
   "execution_count": null,
   "id": "68a6a78f",
   "metadata": {},
   "outputs": [],
   "source": [
    "train_bene_df['Patient_Age_Year'] = train_bene_df['DOB'].dt.year\n",
    "train_bene_df['Patient_Age_Month'] = train_bene_df['DOB'].dt.month"
   ]
  },
  {
   "cell_type": "code",
   "execution_count": null,
   "id": "b7043349",
   "metadata": {},
   "outputs": [],
   "source": [
    "bene_age_year_df = pd.DataFrame(train_bene_df['Patient_Age_Year'].value_counts()).reset_index(drop=False)\n",
    "bene_age_year_df.columns= ['year','num_of_beneficiaries']\n",
    "bene_age_year_df = bene_age_year_df.sort_values(by='year')"
   ]
  },
  {
   "cell_type": "code",
   "execution_count": null,
   "id": "3ebbb85f",
   "metadata": {},
   "outputs": [],
   "source": [
    "# Here, I'm displaying the distribution of BENEFICIARIES on the basis of their YEAR of Birth \n",
    "with plt.style.context('seaborn'):\n",
    "  plt.figure(figsize=(21,9))\n",
    "  fig = sns.barplot(data=bene_age_year_df, x='year', y='num_of_beneficiaries', palette='inferno')\n",
    "  # Using the \"patches\" function we will get the location of the rectangle bars from the graph.\n",
    "  ## Then by using those location(width & height) values we will add the annotations\n",
    "  for p in fig.patches:\n",
    "    width = p.get_width()\n",
    "    height = p.get_height()\n",
    "    x, y = p.get_xy()\n",
    "    fig.annotate(f'{str(round((height*100)/train_bene_df.shape[0],1))+\"%\"}', (x + width/2, y + height*1.025), ha='center', fontsize=13.5, rotation=90)\n",
    "  # Providing the labels and title to the graph\n",
    "  plt.xlabel(\"\\nBeneficary YEAR of Birth\", fontdict=label_font_dict)\n",
    "  plt.xticks(rotation=90)\n",
    "  plt.ylabel(\"Number or % share of patients\\n\", fontdict=label_font_dict)\n",
    "  plt.minorticks_on()\n",
    "  plt.grid(which='major', linestyle=\"--\", color='lightgrey')\n",
    "  plt.title(\"Distribution of BENEFICIARIES based on their YEAR of birth\\n\", fontdict=title_font_dict)"
   ]
  },
  {
   "cell_type": "code",
   "execution_count": null,
   "id": "f013bdd5",
   "metadata": {},
   "outputs": [],
   "source": [
    "outputCollection2 = Helpers.createOutputCollection(context)\n",
    "imgChart2 = Helpers.createTemplateOutputPlotlibChart(context, \n",
    "                                                    chartTitle='Distribution of BENEFICIARIES based on their YEAR of birth',\n",
    "                                                    plt=plt)\n",
    "\n",
    "outputCollection2.addTemplateOutput(imgChart2)"
   ]
  },
  {
   "cell_type": "code",
   "execution_count": null,
   "id": "d5fa34e5",
   "metadata": {},
   "outputs": [],
   "source": [
    "Helpers.save(context)"
   ]
  },
  {
   "cell_type": "code",
   "execution_count": null,
   "id": "24a518ad",
   "metadata": {},
   "outputs": [],
   "source": [
    "bene_age_month_df = pd.DataFrame(train_bene_df['Patient_Age_Month'].value_counts()).reset_index(drop=False)\n",
    "bene_age_month_df.columns= ['month','num_of_beneficiaries']\n",
    "bene_age_month_df = bene_age_month_df.sort_values(by='month')"
   ]
  },
  {
   "cell_type": "code",
   "execution_count": null,
   "id": "76f05cb2",
   "metadata": {},
   "outputs": [],
   "source": [
    "# Here, I'm displaying the distribution of BENEFICIARIES on the basis of their MONTH of Birth \n",
    "with plt.style.context('seaborn'):\n",
    "  plt.figure(figsize=(12,8))\n",
    "  fig = sns.barplot(data=bene_age_month_df, x='month', y='num_of_beneficiaries', palette='summer')\n",
    "  # Using the \"patches\" function we will get the location of the rectangle bars from the graph.\n",
    "  ## Then by using those location(width & height) values we will add the annotations\n",
    "  for p in fig.patches:\n",
    "    width = p.get_width()\n",
    "    height = p.get_height()\n",
    "    x, y = p.get_xy()\n",
    "    fig.annotate(f'{str(round((height*100)/train_bene_df.shape[0],1))+\"%\"}', (x + width/2, y + height*1.025), ha='center', fontsize=13.5, rotation=90)\n",
    "  # Providing the labels and title to the graph\n",
    "  plt.xlabel(\"\\nBeneficary MONTH of Birth\\n\", fontdict=label_font_dict)\n",
    "  plt.xticks(rotation=90)\n",
    "  plt.ylabel(\"Number or % share of patients\", fontdict=label_font_dict)\n",
    "  plt.minorticks_on()\n",
    "  plt.grid(which='major', linestyle=\"--\", color='lightgrey')\n",
    "  plt.title(\"Distribution of BENEFICIARIES based on their MONTH of birth\\n\", fontdict=title_font_dict)"
   ]
  },
  {
   "cell_type": "code",
   "execution_count": null,
   "id": "7942e5ca",
   "metadata": {},
   "outputs": [],
   "source": [
    "outputCollection3 = Helpers.createOutputCollection(context)\n",
    "imgChart3 = Helpers.createTemplateOutputPlotlibChart(context, \n",
    "                                                    chartTitle='Distribution of BENEFICIARIES based on their MONTH of birth',\n",
    "                                                    plt=plt)\n",
    "\n",
    "outputCollection3.addTemplateOutput(imgChart3)"
   ]
  },
  {
   "cell_type": "code",
   "execution_count": null,
   "id": "e7f3e29f",
   "metadata": {},
   "outputs": [],
   "source": [
    "Helpers.save(context)"
   ]
  },
  {
   "cell_type": "markdown",
   "id": "f5cb43a2",
   "metadata": {},
   "source": []
  },
  {
   "cell_type": "code",
   "execution_count": null,
   "id": "fd9d4782",
   "metadata": {},
   "outputs": [],
   "source": [
    "# 0 means ALIVE and 1 means DEAD\n",
    "train_bene_df['Dead_or_Alive'] = train_bene_df['DOD'].apply(lambda val: 0 if val != val else 1)"
   ]
  },
  {
   "cell_type": "code",
   "execution_count": null,
   "id": "0f677a0e",
   "metadata": {},
   "outputs": [],
   "source": [
    "# Here, I'm displaying the distribution of whether BENEFICIARY is ALIVE or NOT?\n",
    "with plt.style.context('seaborn'):\n",
    "  plt.figure(figsize=(10,8))\n",
    "  fig = train_bene_df['Dead_or_Alive'].value_counts().plot(kind='bar', color=['lightgreen','coral'])\n",
    "  # Using the \"patches\" function we will get the location of the rectangle bars from the graph.\n",
    "  ## Then by using those location(width & height) values we will add the annotations\n",
    "  for p in fig.patches:\n",
    "    width = p.get_width()\n",
    "    height = p.get_height()\n",
    "    x, y = p.get_xy()\n",
    "    fig.annotate(f'{str(round((height*100)/train_bene_df.shape[0],2))+\"%\"}', (x + width/2, y + height*1.015), ha='center', fontsize=13.5)\n",
    "  # Providing the labels and title to the graph\n",
    "  plt.xlabel(\"Alive or Dead Status?\", fontdict=label_font_dict)\n",
    "  plt.xticks(labels=[\"ALIVE\",\"DEAD\"], ticks=[0,1], rotation=20)\n",
    "  plt.ylabel(\"Number or % share of patients\\n\", fontdict=label_font_dict)\n",
    "  plt.grid(which='major', linestyle=\"--\", color='lightgrey')\n",
    "  plt.minorticks_on()\n",
    "  plt.title(\"Distribution of BENEFICIARIES based on Alive or Dead Status\\n\", fontdict=title_font_dict)"
   ]
  },
  {
   "cell_type": "code",
   "execution_count": null,
   "id": "ddd2b562",
   "metadata": {},
   "outputs": [],
   "source": [
    "outputCollection4 = Helpers.createOutputCollection(context)\n",
    "imgChart4 = Helpers.createTemplateOutputPlotlibChart(context, \n",
    "                                                    chartTitle='Distribution of BENEFICIARIES based on Alive or Dead Status',\n",
    "                                                    plt=plt)\n",
    "\n",
    "outputCollection4.addTemplateOutput(imgChart4)"
   ]
  },
  {
   "cell_type": "code",
   "execution_count": null,
   "id": "bd57dbbe",
   "metadata": {},
   "outputs": [],
   "source": [
    "Helpers.save(context)"
   ]
  },
  {
   "cell_type": "code",
   "execution_count": null,
   "id": "f4df5f27",
   "metadata": {},
   "outputs": [],
   "source": []
  },
  {
   "cell_type": "code",
   "execution_count": null,
   "id": "d6c9aea8",
   "metadata": {},
   "outputs": [],
   "source": [
    "train_bene_df['DOD'] = pd.to_datetime(train_bene_df['DOD'])"
   ]
  },
  {
   "cell_type": "code",
   "execution_count": null,
   "id": "3fa6ef0c",
   "metadata": {},
   "outputs": [],
   "source": [
    "# Greatest Date of Death in the TRAIN set for beneficiaries\n",
    "max_bene_DOD = max(train_bene_df['DOD'].unique()[1:])\n",
    "# For all NAN DODs filling the greatest Date of Death\n",
    "train_bene_df['DOD'].fillna(value=max_bene_DOD, inplace=True)\n",
    "train_bene_df['AGE'] = np.round(((train_bene_df['DOD'] - train_bene_df['DOB']).dt.days)/365.0,1)\n",
    "train_bene_df.drop(labels=['DOD'],axis=1,inplace=True)"
   ]
  },
  {
   "cell_type": "code",
   "execution_count": null,
   "id": "0f437132",
   "metadata": {},
   "outputs": [],
   "source": [
    "# Here, I'm displaying the distribution of AGE of Beneficiaries?\n",
    "with plt.style.context('seaborn'):\n",
    "  plt.figure(figsize=(10,8))\n",
    "  train_bene_df['AGE'].plot(kind='hist', color='purple')\n",
    "  # Providing the labels and title to the graph\n",
    "  plt.xlabel(\"\\nBeneficiaries Age in years\", fontdict=label_font_dict)\n",
    "  plt.ylabel(\"Frequency of patients\\n\", fontdict=label_font_dict)\n",
    "  plt.grid(which='major', linestyle=\"--\", color='lightgrey')\n",
    "  plt.minorticks_on()\n",
    "  plt.title(\"Distribution of BENEFICIARIES AGE\", fontdict=title_font_dict)\n",
    "  plt.legend();"
   ]
  },
  {
   "cell_type": "code",
   "execution_count": null,
   "id": "cac8c065",
   "metadata": {},
   "outputs": [],
   "source": [
    "outputCollection5 = Helpers.createOutputCollection(context)\n",
    "imgChart5 = Helpers.createTemplateOutputPlotlibChart(context, \n",
    "                                                    chartTitle='Distribution of BENEFICIARIES AGE',\n",
    "                                                    plt=plt)\n",
    "\n",
    "outputCollection5.addTemplateOutput(imgChart5)"
   ]
  },
  {
   "cell_type": "code",
   "execution_count": null,
   "id": "39b2f381",
   "metadata": {},
   "outputs": [],
   "source": [
    "Helpers.save(context)"
   ]
  },
  {
   "cell_type": "code",
   "execution_count": null,
   "id": "df1d7a0e",
   "metadata": {},
   "outputs": [],
   "source": []
  },
  {
   "cell_type": "code",
   "execution_count": null,
   "id": "3eb6c7d3",
   "metadata": {},
   "outputs": [],
   "source": [
    "def bene_age_brackets(val):\n",
    "  if val >=1 and val <=40:\n",
    "    return 'Young'\n",
    "  elif val > 40 and val <=60:\n",
    "    return 'Mid'\n",
    "  elif val > 60 and val <= 80:\n",
    "    return 'Old'\n",
    "  else:\n",
    "    return 'Very Old'"
   ]
  },
  {
   "cell_type": "code",
   "execution_count": null,
   "id": "be8b0638",
   "metadata": {},
   "outputs": [],
   "source": [
    "train_bene_df['AGE_groups'] = train_bene_df['AGE'].apply(lambda age: bene_age_brackets(age))"
   ]
  },
  {
   "cell_type": "code",
   "execution_count": null,
   "id": "a6b98e1e",
   "metadata": {},
   "outputs": [],
   "source": [
    "age_grps = list(train_bene_df['AGE_groups'].unique())\n",
    "for grp in age_grps:\n",
    "  # Here, I'm displaying the distribution of AGE GROUPS of Beneficiaries?\n",
    "  with plt.style.context('seaborn'):\n",
    "    plt.figure(figsize=(8,6))\n",
    "    train_bene_df[train_bene_df['AGE_groups'] == grp]['AGE'].plot(kind='hist', color='grey')\n",
    "    # Providing the labels and title to the graph\n",
    "    plt.xlabel(\"\\nBeneficiaries Age in years\", fontdict=label_font_dict)\n",
    "    plt.ylabel(\"Frequency of patients\\n\", fontdict=label_font_dict)\n",
    "    plt.grid(which='major', linestyle=\"--\", color='lightgrey')\n",
    "    plt.minorticks_on()\n",
    "    plt.title(\"Distribution of BENEFICIARIES Age group -- {}\".format(str(grp).upper()), fontdict=title_font_dict)\n",
    "    plt.legend();"
   ]
  },
  {
   "cell_type": "code",
   "execution_count": null,
   "id": "bf662b1c",
   "metadata": {},
   "outputs": [],
   "source": [
    "outputCollection6 = Helpers.createOutputCollection(context)\n",
    "imgChart6 = Helpers.createTemplateOutputPlotlibChart(context, \n",
    "                                                    chartTitle='Distribution of BENEFICIARIES Age group',\n",
    "                                                    plt=plt)\n",
    "\n",
    "outputCollection6.addTemplateOutput(imgChart6)"
   ]
  },
  {
   "cell_type": "code",
   "execution_count": null,
   "id": "bad3acba",
   "metadata": {},
   "outputs": [],
   "source": [
    "Helpers.save(context)"
   ]
  },
  {
   "cell_type": "code",
   "execution_count": null,
   "id": "502aeea9",
   "metadata": {},
   "outputs": [],
   "source": []
  },
  {
   "cell_type": "code",
   "execution_count": null,
   "id": "cb17de0a",
   "metadata": {},
   "outputs": [],
   "source": [
    "# Here, I'm displaying the distribution of BENEFICIARIES on the basis of Human RACE\n",
    "with plt.style.context('seaborn'):\n",
    "  plt.figure(figsize=(10,8))\n",
    "  fig = train_bene_df['Race'].value_counts().plot(kind='bar', color=['lightgreen','coral','purple','red'])\n",
    "  # Using the \"patches\" function we will get the location of the rectangle bars from the graph.\n",
    "  ## Then by using those location(width & height) values we will add the annotations\n",
    "  for p in fig.patches:\n",
    "    width = p.get_width()\n",
    "    height = p.get_height()\n",
    "    x, y = p.get_xy()\n",
    "    fig.annotate(f'{str(round((height*100)/train_bene_df.shape[0],2))+\"%\"}', (x + width/2, y + height*1.02), ha='center', fontsize=13.5)\n",
    "  # Providing the labels and title to the graph\n",
    "  plt.xlabel(\"Human RACE\", fontdict=label_font_dict)\n",
    "  plt.xticks(labels=[\"Race_1\",\"Race_2\",\"Race_3\",\"Race_5\"], ticks=[0,1,2,3], rotation=10)\n",
    "  plt.ylabel(\"Number or % share of patients\\n\", fontdict=label_font_dict)\n",
    "  plt.grid(which='major', linestyle=\"--\", color='lightgrey')\n",
    "  plt.minorticks_on()\n",
    "  plt.title(\"Distribution of BENEFICIARIES on the basis of Human RACE\\n\", fontdict=title_font_dict)"
   ]
  },
  {
   "cell_type": "code",
   "execution_count": null,
   "id": "0ca1e8f7",
   "metadata": {},
   "outputs": [],
   "source": [
    "outputCollection7 = Helpers.createOutputCollection(context)\n",
    "imgChart7 = Helpers.createTemplateOutputPlotlibChart(context, \n",
    "                                                    chartTitle='Distribution of BENEFICIARIES Age group',\n",
    "                                                    plt=plt)\n",
    "\n",
    "outputCollection7.addTemplateOutput(imgChart7)"
   ]
  },
  {
   "cell_type": "code",
   "execution_count": null,
   "id": "b2ea2fe5",
   "metadata": {},
   "outputs": [],
   "source": [
    "Helpers.save(context)"
   ]
  },
  {
   "cell_type": "code",
   "execution_count": null,
   "id": "2455216f",
   "metadata": {},
   "outputs": [],
   "source": []
  },
  {
   "cell_type": "code",
   "execution_count": null,
   "id": "110e7685",
   "metadata": {},
   "outputs": [],
   "source": []
  },
  {
   "cell_type": "code",
   "execution_count": null,
   "id": "e4b27d4b",
   "metadata": {},
   "outputs": [],
   "source": []
  },
  {
   "cell_type": "code",
   "execution_count": null,
   "id": "6b58d892",
   "metadata": {},
   "outputs": [],
   "source": []
  },
  {
   "cell_type": "code",
   "execution_count": null,
   "id": "4f7af907",
   "metadata": {},
   "outputs": [],
   "source": []
  },
  {
   "cell_type": "markdown",
   "id": "0adce75f",
   "metadata": {},
   "source": []
  },
  {
   "cell_type": "markdown",
   "id": "b4c93b22",
   "metadata": {},
   "source": [
    "train_bene_df['Gender'] = train_bene_df['Gender'].apply(lambda val: 0 if val == 2 else 1)"
   ]
  },
  {
   "cell_type": "markdown",
   "id": "68f09ba5",
   "metadata": {},
   "source": [
    "# Here, I'm displaying the distribution of BENEFICIARIES on the basis of GENDER \n",
    "with plt.style.context('seaborn'):\n",
    "    plt.figure(figsize=(10,8))\n",
    "    fig = train_bene_df['Gender'].value_counts().plot(kind='bar', color=['yellow','purple'])\n",
    "    # Using the \"patches\" function we will get the location of the rectangle bars from the graph.\n",
    "    ## Then by using those location(width & height) values we will add the annotations\n",
    "    for p in fig.patches:\n",
    "        width = p.get_width()\n",
    "        height = p.get_height()\n",
    "        x, y = p.get_xy()\n",
    "        fig.annotate(f'{str(round((height*100)/train_bene_df.shape[0],2))+\"%\"}', (x + width/2, y + height*1.015), ha='center', fontsize=13.5)\n",
    "    # Providing the labels and title to the graph\n",
    "    plt.xlabel(\"Gender Code\", fontdict=label_font_dict)\n",
    "    plt.ylabel(\"Number or % share of patients\\n\", fontdict=label_font_dict)\n",
    "    plt.grid(which='major', linestyle=\"--\", color='lightgrey')\n",
    "    plt.minorticks_on()\n",
    "    plt.title(\"Distribution of BENEFICIARIES based on GENDER\\n\", fontdict=title_font_dict)"
   ]
  },
  {
   "cell_type": "markdown",
   "id": "3fe806a7",
   "metadata": {},
   "source": [
    "outputCollection = Helpers.createOutputCollection(context)\n",
    "imgChart = Helpers.createTemplateOutputPlotlibChart(context, chartTitle='Gender', plt=plt)\n",
    "\n",
    "outputCollection.addTemplateOutput(imgChart)"
   ]
  },
  {
   "cell_type": "markdown",
   "id": "20315ddb",
   "metadata": {},
   "source": [
    "Helpers.cre"
   ]
  },
  {
   "cell_type": "markdown",
   "id": "1723193c",
   "metadata": {},
   "source": [
    "Helpers.save(context)"
   ]
  }
 ],
 "metadata": {
  "kernelspec": {
   "display_name": "Python 3 (ipykernel)",
   "language": "python",
   "name": "python3"
  },
  "language_info": {
   "codemirror_mode": {
    "name": "ipython",
    "version": 3
   },
   "file_extension": ".py",
   "mimetype": "text/x-python",
   "name": "python",
   "nbconvert_exporter": "python",
   "pygments_lexer": "ipython3",
   "version": "3.8.5"
  }
 },
 "nbformat": 4,
 "nbformat_minor": 5
}
