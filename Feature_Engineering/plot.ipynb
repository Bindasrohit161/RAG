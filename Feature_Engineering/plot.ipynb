{
 "cells": [
  {
   "cell_type": "code",
   "execution_count": 4,
   "id": "1ee0abce",
   "metadata": {},
   "outputs": [],
   "source": [
    "import sys\n",
    "# sys.path.append('/Users/bernardoloureiro/template-lib')\n",
    "\n",
    "from utils.notebookhelpers.helpers import Helpers\n",
    "from utils.dtos.templateOutputCollection import TemplateOutputCollection\n",
    "from utils.dtos.variable import Metadata\n",
    "from utils.dtos.templateOutput import TemplateOutput\n",
    "from utils.dtos.templateOutput import OutputType\n",
    "from utils.dtos.templateOutput import ChartType\n",
    "import datetime\n",
    "import logging\n",
    "import pandas as pd\n",
    "import numpy as np\n",
    "import os\n",
    "from dateutil import parser\n",
    "logging.basicConfig(format='%(levelname)s:%(message)s', level=logging.INFO)\n",
    "import math\n",
    "import scipy as scipy\n",
    "import matplotlib.pyplot as plt\n",
    "import seaborn as sns\n",
    "import copy\n",
    "%matplotlib inline\n",
    "from sklearn.model_selection import train_test_split as tts\n",
    "from sklearn.preprocessing import RobustScaler\n",
    "from imblearn.over_sampling import ADASYN\n",
    "from sklearn.ensemble import RandomForestClassifier\n",
    "\n",
    "from collections import Counter\n",
    "from sklearn.linear_model import LogisticRegressionCV\n",
    "from sklearn import metrics\n",
    "from sklearn.metrics import accuracy_score, precision_score, recall_score, f1_score, roc_auc_score, confusion_matrix, roc_curve, auc\n",
    "# from sklearn.linear_model import LogisticRegression\n",
    "from sklearn.model_selection import GridSearchCV\n",
    "from sklearn.model_selection import RandomizedSearchCV\n",
    "from sklearn.calibration import CalibratedClassifierCV"
   ]
  },
  {
   "cell_type": "code",
   "execution_count": 5,
   "id": "facc6d99",
   "metadata": {},
   "outputs": [
    {
     "name": "stderr",
     "output_type": "stream",
     "text": [
      "WARNING:Context is not present for given context_id: None. Make sure you declare context_id at the top of the cell and run prepareForLocal in your flow file before testing transform file.\n",
      "WARNING:Context is not present for given context_id: None. Make sure you declare context_id at the top of the cell and run prepareForLocal in your flow file before testing transform file.\n"
     ]
    }
   ],
   "source": [
    "inputDatasetParameter=Helpers.get_or_create_input_dataset(\n",
    "    name=\"inputBeneDataset\",\n",
    "    metadata=Metadata(input_name='Bene_df', is_required=True, tooltip='Benefeciary Dataset for EDA'),\n",
    "    local_context=locals()\n",
    ")\n",
    "\n",
    "# Gender = Helpers.get_or_create_input_var(\n",
    "#     name=\"Gender\",\n",
    "#     metadata=Metadata(input_name=\"Longitude\", is_required=True, tooltip=\"Longitude\", multiple=False, datatypes=[\"DOUBLE\", \"LONG\"], options=['FIELDS', 'CONSTANT'], datasets=['GeoDataset']),\n",
    "#     local_context=locals()\n",
    "# )\n",
    "\n",
    "Gender_chart=Helpers.get_or_create_output_chart(\n",
    " name=\"Gender_chart\",\n",
    "    metadata=Metadata(input_name='Gender_chart Chart Name', is_required=True, tooltip='Name of the chart to be created'),\n",
    "    local_context=locals()\n",
    ")"
   ]
  },
  {
   "cell_type": "code",
   "execution_count": 6,
   "id": "4502685d",
   "metadata": {},
   "outputs": [],
   "source": [
    "contextId = \"new_transform\"\n",
    "context = Helpers.getOrCreateContext(contextId = contextId, localVars=locals())"
   ]
  },
  {
   "cell_type": "code",
   "execution_count": 7,
   "id": "9b54e1d2",
   "metadata": {
    "collapsed": true
   },
   "outputs": [
    {
     "ename": "KeyError",
     "evalue": "'entityPaths'",
     "output_type": "error",
     "traceback": [
      "\u001b[1;31m---------------------------------------------------------------------------\u001b[0m",
      "\u001b[1;31mKeyError\u001b[0m                                  Traceback (most recent call last)",
      "Input \u001b[1;32mIn [7]\u001b[0m, in \u001b[0;36m<cell line: 1>\u001b[1;34m()\u001b[0m\n\u001b[1;32m----> 1\u001b[0m entities\u001b[38;5;241m=\u001b[39m\u001b[43mHelpers\u001b[49m\u001b[38;5;241;43m.\u001b[39;49m\u001b[43mgetAllEntities\u001b[49m\u001b[43m(\u001b[49m\u001b[43mcontext\u001b[49m\u001b[43m)\u001b[49m\n\u001b[0;32m      2\u001b[0m BeneDataset \u001b[38;5;241m=\u001b[39m GeoDatasetParameter\u001b[38;5;241m.\u001b[39mvalue\n\u001b[0;32m      4\u001b[0m Gender_chart\u001b[38;5;241m=\u001b[39mGeoChartName\u001b[38;5;241m.\u001b[39mvalue\n",
      "File \u001b[1;32m~\\AppData\\Roaming\\Python\\Python38\\site-packages\\utils\\notebookhelpers\\helpers.py:213\u001b[0m, in \u001b[0;36mHelpers.getAllEntities\u001b[1;34m(context)\u001b[0m\n\u001b[0;32m    207\u001b[0m \u001b[38;5;124;03m\"\"\"\u001b[39;00m\n\u001b[0;32m    208\u001b[0m \u001b[38;5;124;03mReturns all the entity names in the context\u001b[39;00m\n\u001b[0;32m    209\u001b[0m \u001b[38;5;124;03m:param context:\u001b[39;00m\n\u001b[0;32m    210\u001b[0m \u001b[38;5;124;03m:return: list of all entity names\u001b[39;00m\n\u001b[0;32m    211\u001b[0m \u001b[38;5;124;03m\"\"\"\u001b[39;00m\n\u001b[0;32m    212\u001b[0m entities \u001b[38;5;241m=\u001b[39m []\n\u001b[1;32m--> 213\u001b[0m entityPaths \u001b[38;5;241m=\u001b[39m \u001b[43mcontext\u001b[49m\u001b[43m[\u001b[49m\u001b[38;5;124;43m'\u001b[39;49m\u001b[38;5;124;43mentityPaths\u001b[39;49m\u001b[38;5;124;43m'\u001b[39;49m\u001b[43m]\u001b[49m\n\u001b[0;32m    214\u001b[0m \u001b[38;5;28;01mfor\u001b[39;00m entityPath \u001b[38;5;129;01min\u001b[39;00m entityPaths:\n\u001b[0;32m    215\u001b[0m     entities\u001b[38;5;241m.\u001b[39mappend(entityPath[\u001b[38;5;124m'\u001b[39m\u001b[38;5;124mentity_name\u001b[39m\u001b[38;5;124m'\u001b[39m])\n",
      "\u001b[1;31mKeyError\u001b[0m: 'entityPaths'"
     ]
    }
   ],
   "source": [
    "entities=Helpers.getAllEntities(context)\n",
    "BeneDataset = inputDatasetParameter.value\n",
    "\n",
    "Gender_chart_name=Gender_chart.value"
   ]
  },
  {
   "cell_type": "code",
   "execution_count": null,
   "id": "1504509e",
   "metadata": {},
   "outputs": [],
   "source": [
    "df = Helpers.getEntityData(context,BeneDataset)"
   ]
  },
  {
   "cell_type": "code",
   "execution_count": null,
   "id": "07761dd3",
   "metadata": {},
   "outputs": [],
   "source": [
    "train_bene_df = df.copy()"
   ]
  },
  {
   "cell_type": "code",
   "execution_count": 2,
   "id": "3816a870",
   "metadata": {},
   "outputs": [],
   "source": [
    "pd.set_option('display.max_columns',30)\n",
    "label_font_dict = {'family':'sans-serif','size':13.5,'color':'brown','style':'italic'}\n",
    "title_font_dict = {'family':'sans-serif','size':16.5,'color':'Blue','style':'italic'}"
   ]
  },
  {
   "cell_type": "code",
   "execution_count": null,
   "id": "85bc788c",
   "metadata": {},
   "outputs": [],
   "source": [
    "train_bene_df['Gender'] = train_bene_df['Gender'].apply(lambda val: 0 if val == 2 else 1)"
   ]
  },
  {
   "cell_type": "code",
   "execution_count": null,
   "id": "d05d9917",
   "metadata": {},
   "outputs": [],
   "source": [
    "# Here, I'm displaying the distribution of BENEFICIARIES on the basis of GENDER \n",
    "with plt.style.context('seaborn'):\n",
    "    plt.figure(figsize=(10,8))\n",
    "    fig = train_bene_df['Gender'].value_counts().plot(kind='bar', color=['yellow','purple'])\n",
    "    # Using the \"patches\" function we will get the location of the rectangle bars from the graph.\n",
    "    ## Then by using those location(width & height) values we will add the annotations\n",
    "    for p in fig.patches:\n",
    "        width = p.get_width()\n",
    "        height = p.get_height()\n",
    "        x, y = p.get_xy()\n",
    "        fig.annotate(f'{str(round((height*100)/train_bene_df.shape[0],2))+\"%\"}', (x + width/2, y + height*1.015), ha='center', fontsize=13.5)\n",
    "    # Providing the labels and title to the graph\n",
    "    plt.xlabel(\"Gender Code\", fontdict=label_font_dict)\n",
    "    plt.ylabel(\"Number or % share of patients\\n\", fontdict=label_font_dict)\n",
    "    plt.grid(which='major', linestyle=\"--\", color='lightgrey')\n",
    "    plt.minorticks_on()\n",
    "    plt.title(\"Distribution of BENEFICIARIES based on GENDER\\n\", fontdict=title_font_dict)"
   ]
  },
  {
   "cell_type": "code",
   "execution_count": null,
   "id": "5fcb6e82",
   "metadata": {},
   "outputs": [],
   "source": [
    "outputCollection = Helpers.createOutputCollection(context)\n",
    "imgChart = Helpers.createTemplateOutputPlotlibChart(context, chartTitle='check', plt=plt)\n",
    "\n",
    "outputCollection.addTemplateOutput(imgChart)"
   ]
  },
  {
   "cell_type": "markdown",
   "id": "015d5f55",
   "metadata": {},
   "source": [
    "Helpers.cre"
   ]
  },
  {
   "cell_type": "code",
   "execution_count": null,
   "id": "5f7b7774",
   "metadata": {},
   "outputs": [],
   "source": [
    "Helpers.save(context)"
   ]
  }
 ],
 "metadata": {
  "kernelspec": {
   "display_name": "Python 3 (ipykernel)",
   "language": "python",
   "name": "python3"
  },
  "language_info": {
   "codemirror_mode": {
    "name": "ipython",
    "version": 3
   },
   "file_extension": ".py",
   "mimetype": "text/x-python",
   "name": "python",
   "nbconvert_exporter": "python",
   "pygments_lexer": "ipython3",
   "version": "3.8.5"
  }
 },
 "nbformat": 4,
 "nbformat_minor": 5
}
