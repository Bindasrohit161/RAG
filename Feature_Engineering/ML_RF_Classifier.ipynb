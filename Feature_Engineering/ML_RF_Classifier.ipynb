{
 "cells": [
  {
   "cell_type": "code",
   "execution_count": 2,
   "id": "7c23c579",
   "metadata": {},
   "outputs": [],
   "source": [
    "import sys\n",
    "# sys.path.append('/Users/bernardoloureiro/template-lib')\n",
    "\n",
    "from utils.notebookhelpers.helpers import Helpers\n",
    "from utils.dtos.templateOutputCollection import TemplateOutputCollection\n",
    "from utils.dtos.variable import Metadata\n",
    "from utils.dtos.templateOutput import TemplateOutput\n",
    "from utils.dtos.templateOutput import OutputType\n",
    "from utils.dtos.templateOutput import ChartType\n",
    "import datetime\n",
    "import logging\n",
    "import pandas as pd\n",
    "import numpy as np\n",
    "from numpy import mean,std\n",
    "import os\n",
    "from dateutil import parser\n",
    "logging.basicConfig(format='%(levelname)s:%(message)s', level=logging.INFO)\n",
    "import math\n",
    "import scipy as scipy\n",
    "import matplotlib.pyplot as plt\n",
    "import seaborn as sns\n",
    "import copy\n",
    "%matplotlib inline\n",
    "from sklearn.model_selection import train_test_split as tts\n",
    "from sklearn.preprocessing import RobustScaler\n",
    "from imblearn.over_sampling import ADASYN\n",
    "from sklearn.ensemble import RandomForestClassifier\n",
    "from sklearn.ensemble import IsolationForest\n",
    "\n",
    "from collections import Counter\n",
    "from sklearn.linear_model import LogisticRegressionCV\n",
    "from sklearn import metrics\n",
    "from sklearn.metrics import accuracy_score, precision_score, recall_score, f1_score, roc_auc_score, confusion_matrix, roc_curve, auc\n",
    "# from sklearn.linear_model import LogisticRegression\n",
    "from sklearn.model_selection import GridSearchCV,KFold\n",
    "from sklearn.model_selection import RandomizedSearchCV\n",
    "from sklearn.calibration import CalibratedClassifierCV\n",
    "\n",
    "##Pycaret\n",
    "import jinja2\n",
    "from pycaret.classification import *\n"
   ]
  },
  {
   "cell_type": "code",
   "execution_count": 2,
   "id": "cf86f39e",
   "metadata": {},
   "outputs": [
    {
     "name": "stderr",
     "output_type": "stream",
     "text": [
      "WARNING:Context is not present for given context_id: None. Make sure you declare context_id at the top of the cell and run prepareForLocal in your flow file before testing transform file.\n",
      "WARNING:Context is not present for given context_id: None. Make sure you declare context_id at the top of the cell and run prepareForLocal in your flow file before testing transform file.\n"
     ]
    }
   ],
   "source": [
    "inputDatasetParameter=Helpers.get_or_create_input_dataset(\n",
    "    name=\"inputDataset6\",\n",
    "    metadata=Metadata(input_name='Model_Input_Data', is_required=True\n",
    "                      , tooltip='Model Input data for Classification'),\n",
    "    local_context=locals()\n",
    ")\n",
    "\n",
    "\n",
    "# outputDatasetParameter=Helpers.get_or_create_output_dataset(\n",
    "#  name=\"outputDataset3\",\n",
    "#     metadata=Metadata(input_name='Model Accuracy Scores', is_required=True, tooltip='Dataset name to be created after the transformation'),\n",
    "#     local_context=locals()\n",
    "# )\n",
    "\n",
    "outputDatasetParameter=Helpers.get_or_create_output_dataset(\n",
    " name=\"outputDataset3\",\n",
    "    metadata=Metadata(input_name='Model_Accuracy_Scores', is_required=True, tooltip='Dataset name to be created after the transformation'),\n",
    "    local_context=locals()\n",
    ")\n",
    "\n",
    "outputDatasetParameter2=Helpers.get_or_create_output_dataset(\n",
    " name=\"outputDataset4\",\n",
    "    metadata=Metadata(input_name='Model_Accuracy_Scores2', is_required=True, tooltip='Dataset name to be created after the transformation'),\n",
    "    local_context=locals()\n",
    ")\n",
    "\n",
    "outputDatasetParameter3=Helpers.get_or_create_output_dataset(\n",
    " name=\"outputDataset5\",\n",
    "    metadata=Metadata(input_name='Model_Accuracy_Scores3', is_required=True, tooltip='Dataset name to be created after the transformation'),\n",
    "    local_context=locals()\n",
    ")"
   ]
  },
  {
   "cell_type": "code",
   "execution_count": null,
   "id": "f6897f65",
   "metadata": {},
   "outputs": [],
   "source": [
    "pd.set_option('display.max_columns',30)\n",
    "label_font_dict = {'family':'sans-serif','size':13.5,'color':'brown','style':'italic'}\n",
    "title_font_dict = {'family':'sans-serif','size':16.5,'color':'Blue','style':'italic'}"
   ]
  },
  {
   "cell_type": "code",
   "execution_count": 3,
   "id": "71dc0c0c",
   "metadata": {},
   "outputs": [],
   "source": [
    "#Getting the context\n",
    "contextId = 'HealtCare_Fraud_data_ML_Classification'\n",
    "context = Helpers.getOrCreateContext(contextId=contextId, localVars=locals())"
   ]
  },
  {
   "cell_type": "code",
   "execution_count": 4,
   "id": "c5e6b8c8",
   "metadata": {},
   "outputs": [],
   "source": [
    "#Getting the parameters\n",
    "train_iobp_df_final=inputDatasetParameter.value\n",
    "\n",
    "\n",
    "\n",
    "outputDataset=outputDatasetParameter.value\n",
    "outputDataset2=outputDatasetParameter2.value\n",
    "outputDataset3=outputDatasetParameter3.value"
   ]
  },
  {
   "cell_type": "code",
   "execution_count": 5,
   "id": "31ea6ae2",
   "metadata": {},
   "outputs": [
    {
     "name": "stdout",
     "output_type": "stream",
     "text": [
      "entity doesn't exist\n"
     ]
    }
   ],
   "source": [
    "train_iobp_df_final = Helpers.getEntityData(context, train_iobp_df_final)"
   ]
  },
  {
   "cell_type": "code",
   "execution_count": 6,
   "id": "881ce420",
   "metadata": {},
   "outputs": [],
   "source": [
    "def pred_prob(clf, data): \n",
    "    \"\"\"\n",
    "    Description :: This function is created for storing the predicted probabability using the trained model.\n",
    "    \n",
    "    Input :: It accepts below input parameters :\n",
    "      - clf : Trained model classifier\n",
    "      - data : Dataset for which we want to generate the predictions\n",
    "    \"\"\"\n",
    "    y_pred = clf.predict_proba(data)[:,1]\n",
    "    return y_pred\n",
    "\n",
    "def draw_roc(train_fpr, train_tpr, test_fpr, test_tpr):\n",
    "    \"\"\"\n",
    "    Description :: This function is created for calculating the AUC score on train and test data. And, plotting the ROC curve.\n",
    "    \n",
    "    Input :: It accepts below input parameters :\n",
    "      - train_fpr : Train False +ve rate\n",
    "      - train_tpr : Train True +ve rate\n",
    "      - test_fpr : Test False +ve rate\n",
    "      - test_tpr : Test True +ve rate\n",
    "    \"\"\"\n",
    "    # calculate auc for train and test\n",
    "    train_auc = auc(train_fpr, train_tpr)\n",
    "    test_auc = auc(test_fpr, test_tpr)\n",
    "    with plt.style.context('seaborn-poster'):\n",
    "      plt.plot(train_fpr, train_tpr, label=\"Train AUC =\"+\"{:.4f}\".format(train_auc), color='blue')\n",
    "      plt.plot(test_fpr, test_tpr, label=\"Test AUC =\"+\"{:.4f}\".format(test_auc), color='red')\n",
    "      plt.legend()\n",
    "      plt.xlabel(\"False Positive Rate(FPR)\", fontdict=label_font_dict)\n",
    "      plt.ylabel(\"True Positive Rate(TPR)\", fontdict=label_font_dict)\n",
    "      plt.title(\"Area Under Curve\", fontdict=title_font_dict)\n",
    "      plt.grid(b=True, which='major', color='lightgrey', linestyle='--')\n",
    "      plt.minorticks_on()\n",
    "      plt.show()\n",
    "    \n",
    "def find_best_threshold(threshold, fpr, tpr):\n",
    "    \"\"\"\n",
    "    Description :: This function is created for finding the best threshold value.\n",
    "    \"\"\"\n",
    "    t = threshold[np.argmax(tpr * (1-fpr))]\n",
    "    return t\n",
    "\n",
    "def predict_with_best_t(proba, threshold):\n",
    "    \"\"\"\n",
    "    Description :: This function is created for generating the predictions based on the best threshold value.\n",
    "    \"\"\"\n",
    "    predictions = []\n",
    "    for i in proba:\n",
    "        if i>=threshold:\n",
    "            predictions.append(1)\n",
    "        else:\n",
    "            predictions.append(0)\n",
    "    return predictions\n",
    "\n",
    "def draw_confusion_matrix(best_t, x_train, x_test, y_train, y_test, y_train_pred, y_test_pred):\n",
    "    \"\"\"\n",
    "    Description :: This function is created for plotting the confusion matrix of TRAIN and TEST sets.\n",
    "    \"\"\"\n",
    "    fig, ax = plt.subplots(1,2, figsize=(20,6))\n",
    "\n",
    "    train_prediction = predict_with_best_t(y_train_pred, best_t)\n",
    "    cm = confusion_matrix(y_train, train_prediction)\n",
    "    with plt.style.context('seaborn'):\n",
    "        sns.heatmap(cm, annot=True, fmt='d', ax=ax[0], cmap='viridis')\n",
    "        ax[0].set_title('Train Dataset Confusion Matrix', fontdict=title_font_dict)\n",
    "        ax[0].set_xlabel(\"Predicted Label\", fontdict=label_font_dict)\n",
    "        ax[0].set_ylabel(\"Actual Label\", fontdict=label_font_dict)\n",
    "\n",
    "    test_prediction = predict_with_best_t(y_test_pred, best_t)\n",
    "    cm = confusion_matrix(y_test, test_prediction)\n",
    "    with plt.style.context('seaborn'):\n",
    "        sns.heatmap(cm, annot=True, fmt='d', ax=ax[1], cmap='summer')\n",
    "        ax[1].set_title('Test Dataset Confusion Matrix', fontdict=title_font_dict)\n",
    "        ax[1].set_xlabel(\"Predicted Label\", fontdict=label_font_dict)\n",
    "        ax[1].set_ylabel(\"Actual Label\", fontdict=label_font_dict)\n",
    "    \n",
    "    plt.show()\n",
    "    \n",
    "    return train_prediction, test_prediction"
   ]
  },
  {
   "cell_type": "code",
   "execution_count": 7,
   "id": "c8a1f674",
   "metadata": {},
   "outputs": [],
   "source": [
    "def validate_model(clf, x_train, x_test, y_train, y_test):\n",
    "    \"\"\"\n",
    "    Description :: This function is created for performing the evaluation of the trained model.\n",
    "    \"\"\"\n",
    "    # predict the probability of train data\n",
    "    y_train_pred = pred_prob(clf, x_train)\n",
    "    \n",
    "    # predict the probability of test data\n",
    "    y_test_pred = pred_prob(clf, x_test)\n",
    "    \n",
    "    # calculate tpr, fpr using roc_curve\n",
    "    train_fpr, train_tpr, tr_thresholds = roc_curve(y_train, y_train_pred)\n",
    "    test_fpr, test_tpr, te_thresholds = roc_curve(y_test, y_test_pred)\n",
    "    \n",
    "    # calculate auc for train and test\n",
    "    train_auc = auc(train_fpr, train_tpr)\n",
    "    print(\"### Train AUC = {}\".format(train_auc))\n",
    "    test_auc = auc(test_fpr, test_tpr)\n",
    "    print(\"### Test AUC = {}\".format(test_auc))\n",
    "    \n",
    "    # plotting the ROC curve\n",
    "#     draw_roc(train_fpr, train_tpr, test_fpr, test_tpr)\n",
    "    \n",
    "    # Best threshold value\n",
    "    best_t = find_best_threshold(tr_thresholds, train_fpr, train_tpr)\n",
    "    \n",
    "    # Plotting the confusion matrices\n",
    "    train_prediction, test_prediction = draw_confusion_matrix(best_t, x_train, x_test, y_train, y_test, y_train_pred, y_test_pred)\n",
    "    \n",
    "    # Generating the F1-scores\n",
    "    train_f1_score = f1_score(y_train, train_prediction)\n",
    "    test_f1_score = f1_score(y_test, test_prediction)\n",
    "    \n",
    "    return test_auc, train_f1_score, test_f1_score, best_t"
   ]
  },
  {
   "cell_type": "markdown",
   "id": "60f8c8e9",
   "metadata": {},
   "source": [
    "train_iobp_df_final= pd.read_csv('C:\\\\Users\\\\binda\\\\Downloads\\\\HEALTHCARE PROVIDER FRAUD DETECTION ANALYSIS\\\\Health_care-project\\\\check.csv')"
   ]
  },
  {
   "cell_type": "code",
   "execution_count": 27,
   "id": "0f24bee9",
   "metadata": {},
   "outputs": [],
   "source": [
    "def RF_classifier(train_iobp_df_final):\n",
    "    train_iobp_df_final = train_iobp_df_final.groupby(['Provider','PotentialFraud'],as_index=False).agg('sum')\n",
    "    X = train_iobp_df_final.drop(axis=1, columns=['Provider','PotentialFraud'])\n",
    "    y = train_iobp_df_final['PotentialFraud']\n",
    "    X_train, X_test, y_train, y_test = tts(X, y, test_size=0.20, stratify=y, random_state=38)\n",
    "#     X_train, X_test, y_train, y_test = tts(X, y, test_size=0.25, stratify=y, random_state=39)\n",
    "    \n",
    "    # Standardize the data (train and test)\n",
    "    robust_scaler = RobustScaler()\n",
    "    robust_scaler.fit(X_train)\n",
    "    X_train_std = robust_scaler.transform(X_train)\n",
    "    X_test_std = robust_scaler.transform(X_test)\n",
    "    \n",
    "    # Standardize the data (train and test)\n",
    "    robust_scaler = RobustScaler()\n",
    "    robust_scaler.fit(X_train)\n",
    "    X_train_std = robust_scaler.transform(X_train)\n",
    "    X_test_std = robust_scaler.transform(X_test)\n",
    "    \n",
    "    # Performing minority oversampling\n",
    "    oversample = ADASYN(sampling_strategy=0.45, n_neighbors=9)\n",
    "    X_train_ovsamp, y_train_ovsamp = oversample.fit_resample(X_train_std, y_train)\n",
    "    \n",
    "    return X_train_ovsamp, y_train_ovsamp, X_test_std,y_test"
   ]
  },
  {
   "cell_type": "code",
   "execution_count": 28,
   "id": "48d7fd1f",
   "metadata": {},
   "outputs": [],
   "source": [
    "X_train_ovsamp, y_train_ovsamp, X_test_std,y_test = RF_classifier(train_iobp_df_final)"
   ]
  },
  {
   "cell_type": "markdown",
   "id": "7e38f1cf",
   "metadata": {},
   "source": [
    "X_train_ovsamp"
   ]
  },
  {
   "cell_type": "code",
   "execution_count": 19,
   "id": "2d648ff3",
   "metadata": {},
   "outputs": [
    {
     "data": {
      "text/html": [
       "<style>#sk-container-id-1 {color: black;background-color: white;}#sk-container-id-1 pre{padding: 0;}#sk-container-id-1 div.sk-toggleable {background-color: white;}#sk-container-id-1 label.sk-toggleable__label {cursor: pointer;display: block;width: 100%;margin-bottom: 0;padding: 0.3em;box-sizing: border-box;text-align: center;}#sk-container-id-1 label.sk-toggleable__label-arrow:before {content: \"▸\";float: left;margin-right: 0.25em;color: #696969;}#sk-container-id-1 label.sk-toggleable__label-arrow:hover:before {color: black;}#sk-container-id-1 div.sk-estimator:hover label.sk-toggleable__label-arrow:before {color: black;}#sk-container-id-1 div.sk-toggleable__content {max-height: 0;max-width: 0;overflow: hidden;text-align: left;background-color: #f0f8ff;}#sk-container-id-1 div.sk-toggleable__content pre {margin: 0.2em;color: black;border-radius: 0.25em;background-color: #f0f8ff;}#sk-container-id-1 input.sk-toggleable__control:checked~div.sk-toggleable__content {max-height: 200px;max-width: 100%;overflow: auto;}#sk-container-id-1 input.sk-toggleable__control:checked~label.sk-toggleable__label-arrow:before {content: \"▾\";}#sk-container-id-1 div.sk-estimator input.sk-toggleable__control:checked~label.sk-toggleable__label {background-color: #d4ebff;}#sk-container-id-1 div.sk-label input.sk-toggleable__control:checked~label.sk-toggleable__label {background-color: #d4ebff;}#sk-container-id-1 input.sk-hidden--visually {border: 0;clip: rect(1px 1px 1px 1px);clip: rect(1px, 1px, 1px, 1px);height: 1px;margin: -1px;overflow: hidden;padding: 0;position: absolute;width: 1px;}#sk-container-id-1 div.sk-estimator {font-family: monospace;background-color: #f0f8ff;border: 1px dotted black;border-radius: 0.25em;box-sizing: border-box;margin-bottom: 0.5em;}#sk-container-id-1 div.sk-estimator:hover {background-color: #d4ebff;}#sk-container-id-1 div.sk-parallel-item::after {content: \"\";width: 100%;border-bottom: 1px solid gray;flex-grow: 1;}#sk-container-id-1 div.sk-label:hover label.sk-toggleable__label {background-color: #d4ebff;}#sk-container-id-1 div.sk-serial::before {content: \"\";position: absolute;border-left: 1px solid gray;box-sizing: border-box;top: 0;bottom: 0;left: 50%;z-index: 0;}#sk-container-id-1 div.sk-serial {display: flex;flex-direction: column;align-items: center;background-color: white;padding-right: 0.2em;padding-left: 0.2em;position: relative;}#sk-container-id-1 div.sk-item {position: relative;z-index: 1;}#sk-container-id-1 div.sk-parallel {display: flex;align-items: stretch;justify-content: center;background-color: white;position: relative;}#sk-container-id-1 div.sk-item::before, #sk-container-id-1 div.sk-parallel-item::before {content: \"\";position: absolute;border-left: 1px solid gray;box-sizing: border-box;top: 0;bottom: 0;left: 50%;z-index: -1;}#sk-container-id-1 div.sk-parallel-item {display: flex;flex-direction: column;z-index: 1;position: relative;background-color: white;}#sk-container-id-1 div.sk-parallel-item:first-child::after {align-self: flex-end;width: 50%;}#sk-container-id-1 div.sk-parallel-item:last-child::after {align-self: flex-start;width: 50%;}#sk-container-id-1 div.sk-parallel-item:only-child::after {width: 0;}#sk-container-id-1 div.sk-dashed-wrapped {border: 1px dashed gray;margin: 0 0.4em 0.5em 0.4em;box-sizing: border-box;padding-bottom: 0.4em;background-color: white;}#sk-container-id-1 div.sk-label label {font-family: monospace;font-weight: bold;display: inline-block;line-height: 1.2em;}#sk-container-id-1 div.sk-label-container {text-align: center;}#sk-container-id-1 div.sk-container {/* jupyter's `normalize.less` sets `[hidden] { display: none; }` but bootstrap.min.css set `[hidden] { display: none !important; }` so we also need the `!important` here to be able to override the default hidden behavior on the sphinx rendered scikit-learn.org. See: https://github.com/scikit-learn/scikit-learn/issues/21755 */display: inline-block !important;position: relative;}#sk-container-id-1 div.sk-text-repr-fallback {display: none;}</style><div id=\"sk-container-id-1\" class=\"sk-top-container\"><div class=\"sk-text-repr-fallback\"><pre>RandomForestClassifier(max_depth=4, max_features=&#x27;auto&#x27;, min_samples_leaf=30,\n",
       "                       min_samples_split=30, n_estimators=70, random_state=47)</pre><b>In a Jupyter environment, please rerun this cell to show the HTML representation or trust the notebook. <br />On GitHub, the HTML representation is unable to render, please try loading this page with nbviewer.org.</b></div><div class=\"sk-container\" hidden><div class=\"sk-item\"><div class=\"sk-estimator sk-toggleable\"><input class=\"sk-toggleable__control sk-hidden--visually\" id=\"sk-estimator-id-1\" type=\"checkbox\" checked><label for=\"sk-estimator-id-1\" class=\"sk-toggleable__label sk-toggleable__label-arrow\">RandomForestClassifier</label><div class=\"sk-toggleable__content\"><pre>RandomForestClassifier(max_depth=4, max_features=&#x27;auto&#x27;, min_samples_leaf=30,\n",
       "                       min_samples_split=30, n_estimators=70, random_state=47)</pre></div></div></div></div></div>"
      ],
      "text/plain": [
       "RandomForestClassifier(max_depth=4, max_features='auto', min_samples_leaf=30,\n",
       "                       min_samples_split=30, n_estimators=70, random_state=47)"
      ]
     },
     "execution_count": 19,
     "metadata": {},
     "output_type": "execute_result"
    }
   ],
   "source": [
    "rfc = RandomForestClassifier(n_estimators=70,criterion='gini',\n",
    "                                   max_depth= 5,\n",
    "                                   max_features='auto',\n",
    "                                   min_samples_leaf=20,\n",
    "                                   min_samples_split=20,\n",
    "                                   random_state=45,\n",
    "                                   min_weight_fraction_leaf=0.0,\n",
    "                                   max_leaf_nodes=None,\n",
    "                                   min_impurity_decrease=0.0,\n",
    "                                   ccp_alpha=0.0)\n",
    "\n",
    "rfc.fit(X_train_ovsamp, y_train_ovsamp)"
   ]
  },
  {
   "cell_type": "code",
   "execution_count": 23,
   "id": "7e94f553",
   "metadata": {},
   "outputs": [
    {
     "name": "stdout",
     "output_type": "stream",
     "text": [
      "### Train AUC = 0.9463998611644271\n",
      "### Test AUC = 0.9445907893541647\n"
     ]
    },
    {
     "data": {
      "image/png": "[encoded data removed]",
      "text/plain": [
       "<Figure size 1280x880 with 1 Axes>"
      ]
     },
     "metadata": {},
     "output_type": "display_data"
    },
    {
     "data": {
      "image/png": "[encoded data removed]",
      "text/plain": [
       "<Figure size 2000x600 with 4 Axes>"
      ]
     },
     "metadata": {},
     "output_type": "display_data"
    },
    {
     "name": "stdout",
     "output_type": "stream",
     "text": [
      "\n",
      "\n",
      "### Best Threshold = 0.4265\n",
      "### Model AUC is : 0.9446\n",
      "### Model Train F1 Score is : 0.8213\n",
      "### Model Test F1 Score is : 0.5668\n"
     ]
    }
   ],
   "source": [
    "# Validate model\n",
    "test_auc, train_f1_score, test_f1_score, best_t = validate_model(rfc, X_train_ovsamp, X_test_std, y_train_ovsamp, y_test)\n",
    "\n",
    "print(\"\\n\")\n",
    "print(\"### Best Threshold = {:.4f}\".format(best_t))\n",
    "print(\"### Model AUC is : {:.4f}\".format(test_auc))\n",
    "print(\"### Model Train F1 Score is : {:.4f}\".format(train_f1_score))\n",
    "print(\"### Model Test F1 Score is : {:.4f}\".format(test_f1_score))\n",
    "\n",
    "results = pd.DataFrame(zip([test_auc, train_f1_score, test_f1_score, best_t]),index=['Best Threshold','Best model AUC',\n",
    "                                                                           'Model Train_F1 Score','Model Test_F1 Score'],\n",
    "                                                                             columns=['Results'])"
   ]
  },
  {
   "cell_type": "markdown",
   "id": "08992407",
   "metadata": {},
   "source": [
    "# Isolation RandomForestClassifier"
   ]
  },
  {
   "cell_type": "code",
   "execution_count": null,
   "id": "d5ae5d97",
   "metadata": {},
   "outputs": [],
   "source": [
    "isolation_rfc=IsolationForest(n_estimators=100,max_samples='auto',contamination=float(0.3),\n",
    "                              max_features=0.7,\n",
    "                              random_state=42)\n",
    "\n",
    "# isolation_rfc.fit(data[['marks']])\n"
   ]
  },
  {
   "cell_type": "code",
   "execution_count": null,
   "id": "2112592f",
   "metadata": {},
   "outputs": [],
   "source": [
    "# isolation_rfc = RandomForestClassifier(n_estimators=70,criterion='gini',\n",
    "#                                    max_depth= 5,\n",
    "#                                    max_features='auto',\n",
    "#                                    min_samples_leaf=20,\n",
    "#                                    min_samples_split=20,\n",
    "#                                    random_state=45,\n",
    "#                                    min_weight_fraction_leaf=0.0,\n",
    "#                                    max_leaf_nodes=None,\n",
    "#                                    min_impurity_decrease=0.0,\n",
    "#                                    ccp_alpha=0.0)\n",
    "\n",
    "isolation_rfc.fit(X_train_ovsamp, y_train_ovsamp)"
   ]
  },
  {
   "cell_type": "code",
   "execution_count": null,
   "id": "c4cbdb32",
   "metadata": {},
   "outputs": [],
   "source": [
    "# Validate model\n",
    "test_auc, train_f1_score, test_f1_score, best_t = validate_model(rfc, X_train_ovsamp, X_test_std, y_train_ovsamp, y_test)\n",
    "\n",
    "print(\"\\n\")\n",
    "print(\"### isolation_rfc Best Threshold = {:.4f}\".format(best_t))\n",
    "print(\"### isolation_rfc Model AUC is : {:.4f}\".format(test_auc))\n",
    "print(\"### isolation_rfc Model Train F1 Score is : {:.4f}\".format(train_f1_score))\n",
    "print(\"### isolation_rfc Model Test F1 Score is : {:.4f}\".format(test_f1_score))\n",
    "\n",
    "results_2 = pd.DataFrame(zip([test_auc, train_f1_score, test_f1_score, best_t]),index=['Best Threshold','Best model AUC',\n",
    "                                                                           'Model Train_F1 Score','Model Test_F1 Score'],\n",
    "                                                                             columns=['Results'])\n",
    "\n",
    "df = pd.concat([results,results_2])"
   ]
  },
  {
   "cell_type": "code",
   "execution_count": null,
   "id": "353cdb3c",
   "metadata": {},
   "outputs": [],
   "source": []
  },
  {
   "cell_type": "markdown",
   "id": "07adf985",
   "metadata": {},
   "source": [
    "# Pycaret"
   ]
  },
  {
   "cell_type": "code",
   "execution_count": 3,
   "id": "98cdf2e9",
   "metadata": {},
   "outputs": [],
   "source": [
    "def pred_prob(clf, data): \n",
    "    \"\"\"\n",
    "    Description :: This function is created for storing the predicted probabability using the trained model.\n",
    "    \n",
    "    Input :: It accepts below input parameters :\n",
    "      - clf : Trained model classifier\n",
    "      - data : Dataset for which we want to generate the predictions\n",
    "    \"\"\"\n",
    "    y_pred = clf.predict_proba(data)[:,1]\n",
    "    return y_pred\n",
    "\n",
    "def draw_roc(train_fpr, train_tpr, test_fpr, test_tpr):\n",
    "    \"\"\"\n",
    "    Description :: This function is created for calculating the AUC score on train and test data. And, plotting the ROC curve.\n",
    "    \n",
    "    Input :: It accepts below input parameters :\n",
    "      - train_fpr : Train False +ve rate\n",
    "      - train_tpr : Train True +ve rate\n",
    "      - test_fpr : Test False +ve rate\n",
    "      - test_tpr : Test True +ve rate\n",
    "    \"\"\"\n",
    "    # calculate auc for train and test\n",
    "    train_auc = auc(train_fpr, train_tpr)\n",
    "    test_auc = auc(test_fpr, test_tpr)\n",
    "#     with plt.style.context('seaborn-poster'):\n",
    "#       plt.plot(train_fpr, train_tpr, label=\"Train AUC =\"+\"{:.4f}\".format(train_auc), color='blue')\n",
    "#       plt.plot(test_fpr, test_tpr, label=\"Test AUC =\"+\"{:.4f}\".format(test_auc), color='red')\n",
    "#       plt.legend()\n",
    "#       plt.xlabel(\"False Positive Rate(FPR)\", fontdict=label_font_dict)\n",
    "#       plt.ylabel(\"True Positive Rate(TPR)\", fontdict=label_font_dict)\n",
    "#       plt.title(\"Area Under Curve\", fontdict=title_font_dict)\n",
    "#       plt.grid(b=True, which='major', color='lightgrey', linestyle='--')\n",
    "#       plt.minorticks_on()\n",
    "#       plt.show()\n",
    "    \n",
    "def find_best_threshold(threshold, fpr, tpr):\n",
    "    \"\"\"\n",
    "    Description :: This function is created for finding the best threshold value.\n",
    "    \"\"\"\n",
    "    t = threshold[np.argmax(tpr * (1-fpr))]\n",
    "    return t\n",
    "\n",
    "def predict_with_best_t(proba, threshold):\n",
    "    \"\"\"\n",
    "    Description :: This function is created for generating the predictions based on the best threshold value.\n",
    "    \"\"\"\n",
    "    predictions = []\n",
    "    for i in proba:\n",
    "        if i>=threshold:\n",
    "            predictions.append(1)\n",
    "        else:\n",
    "            predictions.append(0)\n",
    "    return predictions\n",
    "\n",
    "def draw_confusion_matrix( y_train, y_test, y_train_pred, y_test_pred):\n",
    "    \"\"\"\n",
    "    Description :: This function is created for plotting the confusion matrix of TRAIN and TEST sets.\n",
    "    \"\"\"\n",
    "    fig, ax = plt.subplots(1,2, figsize=(20,6))\n",
    "\n",
    "#     train_prediction = predict_with_best_t(y_train_pred, best_t)\n",
    "    cm = confusion_matrix(y_train, y_train_pred)\n",
    "#     with plt.style.context('seaborn'):\n",
    "#         sns.heatmap(cm, annot=True, fmt='d', ax=ax[0], cmap='viridis')\n",
    "#         ax[0].set_title('Train Dataset Confusion Matrix', fontdict=title_font_dict)\n",
    "#         ax[0].set_xlabel(\"Predicted Label\", fontdict=label_font_dict)\n",
    "#         ax[0].set_ylabel(\"Actual Label\", fontdict=label_font_dict)\n",
    "\n",
    "#     test_prediction = predict_with_best_t(y_test_pred, best_t)\n",
    "    cm = confusion_matrix(y_test, y_test_pred)\n",
    "#     with plt.style.context('seaborn'):\n",
    "#         sns.heatmap(cm, annot=True, fmt='d', ax=ax[1], cmap='summer')\n",
    "#         ax[1].set_title('Test Dataset Confusion Matrix', fontdict=title_font_dict)\n",
    "#         ax[1].set_xlabel(\"Predicted Label\", fontdict=label_font_dict)\n",
    "#         ax[1].set_ylabel(\"Actual Label\", fontdict=label_font_dict)\n",
    "    \n",
    "#     plt.show()\n",
    "    \n",
    "    return train_prediction, test_prediction"
   ]
  },
  {
   "cell_type": "code",
   "execution_count": 4,
   "id": "4fa5ac1a",
   "metadata": {},
   "outputs": [],
   "source": [
    "def validate_model(y_train_pred, y_test_pred,y_train,y_test):\n",
    "    \"\"\"\n",
    "    Description :: This function is created for performing the evaluation of the trained model.\n",
    "    \"\"\"\n",
    "#     # predict the probability of train data\n",
    "#     y_train_pred = pred_prob(clf, x_train)\n",
    "    \n",
    "#     # predict the probability of test data\n",
    "#     y_test_pred = pred_prob(clf, x_test)\n",
    "    \n",
    "    # calculate tpr, fpr using roc_curve\n",
    "    train_fpr, train_tpr, tr_thresholds = roc_curve(y_train, y_train_pred)\n",
    "    test_fpr, test_tpr, te_thresholds = roc_curve(y_test, y_test_pred)\n",
    "    \n",
    "    # calculate auc for train and test\n",
    "    train_auc = auc(train_fpr, train_tpr)\n",
    "    print(\"### Train AUC = {}\".format(train_auc))\n",
    "    test_auc = auc(test_fpr, test_tpr)\n",
    "    print(\"### Test AUC = {}\".format(test_auc))\n",
    "    \n",
    "    # plotting the ROC curve\n",
    "#     draw_roc(train_fpr, train_tpr, test_fpr, test_tpr)\n",
    "    \n",
    "    # Best threshold value\n",
    "#     best_t = find_best_threshold(tr_thresholds, train_fpr, train_tpr)\n",
    "    \n",
    "    # Plotting the confusion matrices\n",
    "#     train_prediction, test_prediction = draw_confusion_matrix( y_train, y_test, y_train_pred, y_test_pred)\n",
    "    \n",
    "    # Generating the F1-scores\n",
    "    train_f1_score = f1_score(y_train, y_train_pred)\n",
    "    test_f1_score = f1_score(y_test, y_test_pred)\n",
    "    \n",
    "    return test_auc, train_f1_score, test_f1_score"
   ]
  },
  {
   "cell_type": "code",
   "execution_count": null,
   "id": "c5b8699e",
   "metadata": {},
   "outputs": [],
   "source": [
    "train_iobp_df_final = train_iobp_df_final.groupby(['Provider','PotentialFraud'],as_index=False).agg('sum')\n",
    "X = train_iobp_df_final.drop(axis=1, columns=['Provider','PotentialFraud'])\n",
    "y = train_iobp_df_final['PotentialFraud']"
   ]
  },
  {
   "cell_type": "code",
   "execution_count": null,
   "id": "c008a822",
   "metadata": {},
   "outputs": [],
   "source": [
    "X_train, X_test, y_train, y_test = tts(X, y, test_size=0.25, stratify=y, random_state=10)\n",
    "data_train = pd.DataFrame(X_train.join(y_train))\n",
    "data_test = X_test"
   ]
  },
  {
   "cell_type": "code",
   "execution_count": null,
   "id": "ea38ff24",
   "metadata": {},
   "outputs": [],
   "source": [
    "clf = setup(data = data_train, target = 'PotentialFraud',silent=True)"
   ]
  },
  {
   "cell_type": "code",
   "execution_count": null,
   "id": "ddff027b",
   "metadata": {},
   "outputs": [],
   "source": [
    "compare_models(sort = 'F1')"
   ]
  },
  {
   "cell_type": "code",
   "execution_count": null,
   "id": "5616bb81",
   "metadata": {},
   "outputs": [],
   "source": [
    "ada=create_model('ada')\n",
    "lgm = create_model('lightgbm')"
   ]
  },
  {
   "cell_type": "markdown",
   "id": "3263e146",
   "metadata": {},
   "source": [
    "py_models_result = pd.DataFrame(clf[17][1])"
   ]
  },
  {
   "cell_type": "code",
   "execution_count": null,
   "id": "26e0761e",
   "metadata": {},
   "outputs": [],
   "source": [
    "y_train_pred = predict_model(ada,X_train)\n",
    "y_train_pred = y_train_pred['Label']\n",
    "\n",
    "y_test_pred = predict_model(ada,X_test)\n",
    "y_test_pred = y_test_pred['Label']"
   ]
  },
  {
   "cell_type": "code",
   "execution_count": null,
   "id": "3a154ba6",
   "metadata": {},
   "outputs": [],
   "source": [
    "ada_auc,train_F1,test_F1 = validate_model(y_train_pred, y_test_pred,y_train,y_test)"
   ]
  },
  {
   "cell_type": "code",
   "execution_count": null,
   "id": "bec01627",
   "metadata": {},
   "outputs": [],
   "source": [
    "results2 = pd.DataFrame(zip([ada_auc, train_F1, test_F1]),index=['ADA Model AUC',\n",
    "                                                                           'ADA Model Train_F1 Score','ADA Model Test_F1 Score'],\n",
    "                                                                             columns=['Results'])"
   ]
  },
  {
   "cell_type": "code",
   "execution_count": null,
   "id": "e3c6e3a5",
   "metadata": {},
   "outputs": [],
   "source": [
    "y_train_pred2 = predict_model(lgm,X_train)\n",
    "y_train_pred2 = y_train_pred2['Label']\n",
    "\n",
    "y_test_pred2 = predict_model(lgm,X_test)\n",
    "y_test_pred2 = y_test_pred2['Label']"
   ]
  },
  {
   "cell_type": "code",
   "execution_count": null,
   "id": "2f1551a2",
   "metadata": {},
   "outputs": [],
   "source": [
    "lgm_auc,train2_F1,test2_F1 = validate_model(y_train_pred2, y_test_pred2,y_train,y_test)"
   ]
  },
  {
   "cell_type": "code",
   "execution_count": null,
   "id": "0dceda40",
   "metadata": {},
   "outputs": [],
   "source": [
    "results3 = pd.DataFrame(zip([lgm_auc, train2_F1, test2_F1]),index=['LGM Model AUC',\n",
    "                                                                           'LGM Model Train_F1 Score','LGM Model Test_F1 Score'],\n",
    "                                                                             columns=['Results'])"
   ]
  },
  {
   "cell_type": "markdown",
   "id": "5c7f41d5",
   "metadata": {},
   "source": [
    "result4 = pd.concat([results2,results3])"
   ]
  },
  {
   "cell_type": "code",
   "execution_count": null,
   "id": "3912591b",
   "metadata": {},
   "outputs": [],
   "source": [
    "outputCollection = Helpers.createOutputCollection(context)\n",
    "# py_models_result = Helpers.createTemplateOutputDataset(context=context, outputName=outputDataset, dataFrame=py_models_result)\n",
    "out = Helpers.createTemplateOutputDataset(context=context, outputName=outputDataset, dataFrame=results_2)\n",
    "out2 = Helpers.createTemplateOutputDataset(context=context, outputName=outputDataset2, dataFrame=results2)\n",
    "out3 = Helpers.createTemplateOutputDataset(context=context, outputName=outputDataset3, dataFrame=results3)\n",
    "\n",
    "# out_chart = Helpers.createTemplateOutputPlotlibChart(context, chartTitle='LGM Model', plt=plt)\n",
    "# outputCollection.addTemplateOutput(py_models_result)\n",
    "outputCollection.addTemplateOutput(out)\n",
    "outputCollection.addTemplateOutput(out2)\n",
    "outputCollection.addTemplateOutput(out3)\n",
    "# outputCollection.addTemplateOutput(out_chart)\n",
    "\n",
    "\n",
    "\n",
    "Helpers.save(context)"
   ]
  },
  {
   "cell_type": "code",
   "execution_count": null,
   "id": "dcaee8a6",
   "metadata": {},
   "outputs": [],
   "source": []
  },
  {
   "cell_type": "code",
   "execution_count": null,
   "id": "b8692e25",
   "metadata": {},
   "outputs": [],
   "source": []
  }
 ],
 "metadata": {
  "kernelspec": {
   "display_name": "Python 3 (ipykernel)",
   "language": "python",
   "name": "python3"
  },
  "language_info": {
   "codemirror_mode": {
    "name": "ipython",
    "version": 3
   },
   "file_extension": ".py",
   "mimetype": "text/x-python",
   "name": "python",
   "nbconvert_exporter": "python",
   "pygments_lexer": "ipython3",
   "version": "3.8.5"
  }
 },
 "nbformat": 4,
 "nbformat_minor": 5
}
